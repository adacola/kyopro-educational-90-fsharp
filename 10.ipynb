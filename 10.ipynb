{
 "cells": [
  {
   "attachments": {},
   "cell_type": "markdown",
   "metadata": {
    "dotnet_interactive": {
     "language": "fsharp"
    },
    "polyglot_notebook": {
     "kernelName": "fsharp"
    }
   },
   "source": [
    "## 問題\n",
    "\n",
    "https://twitter.com/e869120/status/1380290146340245505\n",
    "\n",
    "## 解説\n",
    "\n",
    "https://twitter.com/e869120/status/1380652465834532865"
   ]
  },
  {
   "cell_type": "code",
   "execution_count": 1,
   "metadata": {
    "dotnet_interactive": {
     "language": "fsharp"
    },
    "polyglot_notebook": {
     "kernelName": "fsharp"
    },
    "vscode": {
     "languageId": "polyglot-notebook"
    }
   },
   "outputs": [
    {
     "data": {
      "text/html": [
       "<div><div></div><div></div><div><strong>Installed Packages</strong><ul><li><span>FSharpPlus, 1.3.2</span></li></ul></div></div>"
      ]
     },
     "metadata": {},
     "output_type": "display_data"
    }
   ],
   "source": [
    "#r \"nuget: FSharpPlus\""
   ]
  },
  {
   "cell_type": "code",
   "execution_count": 2,
   "metadata": {
    "dotnet_interactive": {
     "language": "fsharp"
    },
    "polyglot_notebook": {
     "kernelName": "fsharp"
    },
    "vscode": {
     "languageId": "polyglot-notebook"
    }
   },
   "outputs": [],
   "source": [
    "open System\n",
    "open System.Numerics\n",
    "open System.Collections.Generic\n",
    "open FSharpPlus"
   ]
  },
  {
   "cell_type": "code",
   "execution_count": 4,
   "metadata": {
    "dotnet_interactive": {
     "language": "fsharp"
    },
    "polyglot_notebook": {
     "kernelName": "fsharp"
    },
    "vscode": {
     "languageId": "polyglot-notebook"
    }
   },
   "outputs": [],
   "source": [
    "let solve CPs Qs =\n",
    "  // クラスごとの累積和を求める\n",
    "  let class1s, class2s = CPs |> Seq.map (fun (c, s) -> if c = 1 then s, 0 else 0, s) |> Seq.toList |> List.unzip\n",
    "  let calcCumulativeSum xs = (0, xs) ||> Seq.scan (+) |> Seq.toArray\n",
    "  let class1CumulativeSum, class2SumulativeSum = calcCumulativeSum class1s, calcCumulativeSum class2s\n",
    "  // 質問に答える\n",
    "  Qs |> Seq.map (fun (l, r) -> class1CumulativeSum[r] - class1CumulativeSum[l - 1], class2SumulativeSum[r] - class2SumulativeSum[l - 1])\n",
    "  |> Seq.toList"
   ]
  },
  {
   "cell_type": "code",
   "execution_count": 5,
   "metadata": {
    "dotnet_interactive": {
     "language": "fsharp"
    },
    "polyglot_notebook": {
     "kernelName": "fsharp"
    },
    "vscode": {
     "languageId": "polyglot-notebook"
    }
   },
   "outputs": [
    {
     "data": {
      "text/html": [
       "<table><thead><tr><th><i>index</i></th><th>Item1</th><th>Item2</th></tr></thead><tbody><tr><td>0</td><td><div class=\"dni-plaintext\"><pre>63</pre></div></td><td><div class=\"dni-plaintext\"><pre>261</pre></div></td></tr></tbody></table><style>\r\n",
       ".dni-code-hint {\r\n",
       "    font-style: italic;\r\n",
       "    overflow: hidden;\r\n",
       "    white-space: nowrap;\r\n",
       "}\r\n",
       ".dni-treeview {\r\n",
       "    white-space: nowrap;\r\n",
       "}\r\n",
       ".dni-treeview td {\r\n",
       "    vertical-align: top;\r\n",
       "    text-align: start;\r\n",
       "}\r\n",
       "details.dni-treeview {\r\n",
       "    padding-left: 1em;\r\n",
       "}\r\n",
       "table td {\r\n",
       "    text-align: start;\r\n",
       "}\r\n",
       "table tr { \r\n",
       "    vertical-align: top; \r\n",
       "    margin: 0em 0px;\r\n",
       "}\r\n",
       "table tr td pre \r\n",
       "{ \r\n",
       "    vertical-align: top !important; \r\n",
       "    margin: 0em 0px !important;\r\n",
       "} \r\n",
       "table th {\r\n",
       "    text-align: start;\r\n",
       "}\r\n",
       "</style>"
      ]
     },
     "metadata": {},
     "output_type": "display_data"
    }
   ],
   "source": [
    "solve\n",
    "  [\n",
    "    1, 72\n",
    "    2, 78\n",
    "    2, 94\n",
    "    1, 23\n",
    "    2, 89\n",
    "    1, 40\n",
    "    1, 75\n",
    "  ]\n",
    "  [\n",
    "    2, 6\n",
    "  ]"
   ]
  },
  {
   "cell_type": "code",
   "execution_count": 6,
   "metadata": {
    "dotnet_interactive": {
     "language": "fsharp"
    },
    "polyglot_notebook": {
     "kernelName": "fsharp"
    },
    "vscode": {
     "languageId": "polyglot-notebook"
    }
   },
   "outputs": [
    {
     "data": {
      "text/html": [
       "<table><thead><tr><th><i>index</i></th><th>Item1</th><th>Item2</th></tr></thead><tbody><tr><td>0</td><td><div class=\"dni-plaintext\"><pre>72</pre></div></td><td><div class=\"dni-plaintext\"><pre>172</pre></div></td></tr><tr><td>1</td><td><div class=\"dni-plaintext\"><pre>23</pre></div></td><td><div class=\"dni-plaintext\"><pre>172</pre></div></td></tr><tr><td>2</td><td><div class=\"dni-plaintext\"><pre>23</pre></div></td><td><div class=\"dni-plaintext\"><pre>183</pre></div></td></tr><tr><td>3</td><td><div class=\"dni-plaintext\"><pre>63</pre></div></td><td><div class=\"dni-plaintext\"><pre>89</pre></div></td></tr><tr><td>4</td><td><div class=\"dni-plaintext\"><pre>115</pre></div></td><td><div class=\"dni-plaintext\"><pre>89</pre></div></td></tr><tr><td>5</td><td><div class=\"dni-plaintext\"><pre>95</pre></div></td><td><div class=\"dni-plaintext\"><pre>261</pre></div></td></tr><tr><td>6</td><td><div class=\"dni-plaintext\"><pre>63</pre></div></td><td><div class=\"dni-plaintext\"><pre>261</pre></div></td></tr><tr><td>7</td><td><div class=\"dni-plaintext\"><pre>138</pre></div></td><td><div class=\"dni-plaintext\"><pre>183</pre></div></td></tr><tr><td>8</td><td><div class=\"dni-plaintext\"><pre>135</pre></div></td><td><div class=\"dni-plaintext\"><pre>261</pre></div></td></tr><tr><td>9</td><td><div class=\"dni-plaintext\"><pre>138</pre></div></td><td><div class=\"dni-plaintext\"><pre>261</pre></div></td></tr></tbody></table><style>\r\n",
       ".dni-code-hint {\r\n",
       "    font-style: italic;\r\n",
       "    overflow: hidden;\r\n",
       "    white-space: nowrap;\r\n",
       "}\r\n",
       ".dni-treeview {\r\n",
       "    white-space: nowrap;\r\n",
       "}\r\n",
       ".dni-treeview td {\r\n",
       "    vertical-align: top;\r\n",
       "    text-align: start;\r\n",
       "}\r\n",
       "details.dni-treeview {\r\n",
       "    padding-left: 1em;\r\n",
       "}\r\n",
       "table td {\r\n",
       "    text-align: start;\r\n",
       "}\r\n",
       "table tr { \r\n",
       "    vertical-align: top; \r\n",
       "    margin: 0em 0px;\r\n",
       "}\r\n",
       "table tr td pre \r\n",
       "{ \r\n",
       "    vertical-align: top !important; \r\n",
       "    margin: 0em 0px !important;\r\n",
       "} \r\n",
       "table th {\r\n",
       "    text-align: start;\r\n",
       "}\r\n",
       "</style>"
      ]
     },
     "metadata": {},
     "output_type": "display_data"
    }
   ],
   "source": [
    "solve\n",
    "  [\n",
    "    1, 72\n",
    "    2, 78\n",
    "    2, 94\n",
    "    1, 23\n",
    "    2, 89\n",
    "    1, 40\n",
    "    1, 75\n",
    "  ]\n",
    "  [\n",
    "    1, 3\n",
    "    2, 4\n",
    "    3, 5\n",
    "    4, 6\n",
    "    5, 7\n",
    "    1, 5\n",
    "    2, 6\n",
    "    3, 7\n",
    "    1, 6\n",
    "    2, 7\n",
    "  ]"
   ]
  },
  {
   "cell_type": "code",
   "execution_count": 7,
   "metadata": {
    "dotnet_interactive": {
     "language": "fsharp"
    },
    "polyglot_notebook": {
     "kernelName": "fsharp"
    },
    "vscode": {
     "languageId": "polyglot-notebook"
    }
   },
   "outputs": [
    {
     "data": {
      "text/html": [
       "<table><thead><tr><th><i>index</i></th><th>Item1</th><th>Item2</th></tr></thead><tbody><tr><td>0</td><td><div class=\"dni-plaintext\"><pre>100</pre></div></td><td><div class=\"dni-plaintext\"><pre>0</pre></div></td></tr><tr><td>1</td><td><div class=\"dni-plaintext\"><pre>100</pre></div></td><td><div class=\"dni-plaintext\"><pre>0</pre></div></td></tr><tr><td>2</td><td><div class=\"dni-plaintext\"><pre>100</pre></div></td><td><div class=\"dni-plaintext\"><pre>0</pre></div></td></tr></tbody></table><style>\r\n",
       ".dni-code-hint {\r\n",
       "    font-style: italic;\r\n",
       "    overflow: hidden;\r\n",
       "    white-space: nowrap;\r\n",
       "}\r\n",
       ".dni-treeview {\r\n",
       "    white-space: nowrap;\r\n",
       "}\r\n",
       ".dni-treeview td {\r\n",
       "    vertical-align: top;\r\n",
       "    text-align: start;\r\n",
       "}\r\n",
       "details.dni-treeview {\r\n",
       "    padding-left: 1em;\r\n",
       "}\r\n",
       "table td {\r\n",
       "    text-align: start;\r\n",
       "}\r\n",
       "table tr { \r\n",
       "    vertical-align: top; \r\n",
       "    margin: 0em 0px;\r\n",
       "}\r\n",
       "table tr td pre \r\n",
       "{ \r\n",
       "    vertical-align: top !important; \r\n",
       "    margin: 0em 0px !important;\r\n",
       "} \r\n",
       "table th {\r\n",
       "    text-align: start;\r\n",
       "}\r\n",
       "</style>"
      ]
     },
     "metadata": {},
     "output_type": "display_data"
    }
   ],
   "source": [
    "solve\n",
    "  [\n",
    "    1, 100\n",
    "  ]\n",
    "  [\n",
    "    1, 1\n",
    "    1, 1\n",
    "    1, 1\n",
    "  ]"
   ]
  },
  {
   "cell_type": "code",
   "execution_count": 8,
   "metadata": {
    "dotnet_interactive": {
     "language": "fsharp"
    },
    "polyglot_notebook": {
     "kernelName": "fsharp"
    },
    "vscode": {
     "languageId": "polyglot-notebook"
    }
   },
   "outputs": [
    {
     "data": {
      "text/html": [
       "<table><thead><tr><th><i>index</i></th><th>Item1</th><th>Item2</th></tr></thead><tbody><tr><td>0</td><td><div class=\"dni-plaintext\"><pre>175</pre></div></td><td><div class=\"dni-plaintext\"><pre>430</pre></div></td></tr><tr><td>1</td><td><div class=\"dni-plaintext\"><pre>0</pre></div></td><td><div class=\"dni-plaintext\"><pre>85</pre></div></td></tr><tr><td>2</td><td><div class=\"dni-plaintext\"><pre>0</pre></div></td><td><div class=\"dni-plaintext\"><pre>65</pre></div></td></tr><tr><td>3</td><td><div class=\"dni-plaintext\"><pre>51</pre></div></td><td><div class=\"dni-plaintext\"><pre>16</pre></div></td></tr><tr><td>4</td><td><div class=\"dni-plaintext\"><pre>116</pre></div></td><td><div class=\"dni-plaintext\"><pre>246</pre></div></td></tr><tr><td>5</td><td><div class=\"dni-plaintext\"><pre>67</pre></div></td><td><div class=\"dni-plaintext\"><pre>154</pre></div></td></tr><tr><td>6</td><td><div class=\"dni-plaintext\"><pre>0</pre></div></td><td><div class=\"dni-plaintext\"><pre>165</pre></div></td></tr><tr><td>7</td><td><div class=\"dni-plaintext\"><pre>0</pre></div></td><td><div class=\"dni-plaintext\"><pre>111</pre></div></td></tr><tr><td>8</td><td><div class=\"dni-plaintext\"><pre>213</pre></div></td><td><div class=\"dni-plaintext\"><pre>184</pre></div></td></tr><tr><td>9</td><td><div class=\"dni-plaintext\"><pre>32</pre></div></td><td><div class=\"dni-plaintext\"><pre>156</pre></div></td></tr><tr><td>10</td><td><div class=\"dni-plaintext\"><pre>175</pre></div></td><td><div class=\"dni-plaintext\"><pre>340</pre></div></td></tr><tr><td>11</td><td><div class=\"dni-plaintext\"><pre>32</pre></div></td><td><div class=\"dni-plaintext\"><pre>54</pre></div></td></tr><tr><td>12</td><td><div class=\"dni-plaintext\"><pre>299</pre></div></td><td><div class=\"dni-plaintext\"><pre>511</pre></div></td></tr><tr><td>13</td><td><div class=\"dni-plaintext\"><pre>132</pre></div></td><td><div class=\"dni-plaintext\"><pre>336</pre></div></td></tr><tr><td>14</td><td><div class=\"dni-plaintext\"><pre>67</pre></div></td><td><div class=\"dni-plaintext\"><pre>244</pre></div></td></tr><tr><td>15</td><td><div class=\"dni-plaintext\"><pre>175</pre></div></td><td><div class=\"dni-plaintext\"><pre>314</pre></div></td></tr><tr><td>16</td><td><div class=\"dni-plaintext\"><pre>51</pre></div></td><td><div class=\"dni-plaintext\"><pre>181</pre></div></td></tr><tr><td>17</td><td><div class=\"dni-plaintext\"><pre>124</pre></div></td><td><div class=\"dni-plaintext\"><pre>90</pre></div></td></tr><tr><td>18</td><td><div class=\"dni-plaintext\"><pre>0</pre></div></td><td><div class=\"dni-plaintext\"><pre>17</pre></div></td></tr><tr><td>19</td><td><div class=\"dni-plaintext\"><pre>120</pre></div></td><td><div class=\"dni-plaintext\"><pre>186</pre></div></td></tr><tr><td colspan=\"3\"><i>... (more)</i></td></tr></tbody></table><style>\r\n",
       ".dni-code-hint {\r\n",
       "    font-style: italic;\r\n",
       "    overflow: hidden;\r\n",
       "    white-space: nowrap;\r\n",
       "}\r\n",
       ".dni-treeview {\r\n",
       "    white-space: nowrap;\r\n",
       "}\r\n",
       ".dni-treeview td {\r\n",
       "    vertical-align: top;\r\n",
       "    text-align: start;\r\n",
       "}\r\n",
       "details.dni-treeview {\r\n",
       "    padding-left: 1em;\r\n",
       "}\r\n",
       "table td {\r\n",
       "    text-align: start;\r\n",
       "}\r\n",
       "table tr { \r\n",
       "    vertical-align: top; \r\n",
       "    margin: 0em 0px;\r\n",
       "}\r\n",
       "table tr td pre \r\n",
       "{ \r\n",
       "    vertical-align: top !important; \r\n",
       "    margin: 0em 0px !important;\r\n",
       "} \r\n",
       "table th {\r\n",
       "    text-align: start;\r\n",
       "}\r\n",
       "</style>"
      ]
     },
     "metadata": {},
     "output_type": "display_data"
    }
   ],
   "source": [
    "solve\n",
    "  [\n",
    "    2, 90\n",
    "    1, 67\n",
    "    2, 9\n",
    "    2, 17\n",
    "    2, 85\n",
    "    2, 43\n",
    "    2, 11\n",
    "    1, 32\n",
    "    2, 16\n",
    "    1, 19\n",
    "    2, 65\n",
    "    1, 14\n",
    "    1, 51\n",
    "    2, 94\n",
    "    1, 4\n",
    "    1, 55\n",
    "    2, 90\n",
    "    1, 89\n",
    "    1, 35\n",
    "    2, 81\n",
    "  ]\n",
    "  [\n",
    "    3, 17\n",
    "    5, 5\n",
    "    11, 11\n",
    "    8, 10\n",
    "    3, 13\n",
    "    2, 6\n",
    "    3, 7\n",
    "    3, 5\n",
    "    12, 18\n",
    "    4, 8\n",
    "    3, 16\n",
    "    6, 8\n",
    "    3, 20\n",
    "    1, 12\n",
    "    1, 6\n",
    "    5, 16\n",
    "    3, 10\n",
    "    17, 19\n",
    "    4, 4\n",
    "    7, 15\n",
    "  ]\n"
   ]
  },
  {
   "cell_type": "code",
   "execution_count": null,
   "metadata": {
    "dotnet_interactive": {
     "language": "fsharp"
    },
    "polyglot_notebook": {
     "kernelName": "fsharp"
    },
    "vscode": {
     "languageId": "polyglot-notebook"
    }
   },
   "outputs": [],
   "source": []
  }
 ],
 "metadata": {
  "kernelspec": {
   "display_name": ".NET (F#)",
   "language": "F#",
   "name": ".net-fsharp"
  },
  "polyglot_notebook": {
   "kernelInfo": {
    "defaultKernelName": "fsharp",
    "items": [
     {
      "aliases": [
       "f#",
       "F#"
      ],
      "languageName": "F#",
      "name": "fsharp"
     },
     {
      "aliases": [
       "frontend"
      ],
      "name": "vscode"
     },
     {
      "aliases": [],
      "name": ".NET"
     },
     {
      "aliases": [
       "c#",
       "C#"
      ],
      "languageName": "C#",
      "name": "csharp"
     },
     {
      "aliases": [],
      "languageName": "HTML",
      "name": "html"
     },
     {
      "aliases": [],
      "languageName": "HTTP",
      "name": "http"
     },
     {
      "aliases": [
       "js"
      ],
      "languageName": "JavaScript",
      "name": "javascript"
     },
     {
      "aliases": [],
      "languageName": "KQL",
      "name": "kql"
     },
     {
      "aliases": [],
      "languageName": "Mermaid",
      "name": "mermaid"
     },
     {
      "aliases": [
       "powershell"
      ],
      "languageName": "PowerShell",
      "name": "pwsh"
     },
     {
      "aliases": [],
      "languageName": "SQL",
      "name": "sql"
     },
     {
      "aliases": [],
      "name": "value"
     },
     {
      "aliases": [],
      "name": "webview"
     }
    ]
   }
  }
 },
 "nbformat": 4,
 "nbformat_minor": 2
}
