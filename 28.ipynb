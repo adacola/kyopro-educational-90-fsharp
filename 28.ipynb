{
 "cells": [
  {
   "attachments": {},
   "cell_type": "markdown",
   "metadata": {
    "dotnet_interactive": {
     "language": "fsharp"
    },
    "polyglot_notebook": {
     "kernelName": "fsharp"
    }
   },
   "source": [
    "## 問題\n",
    "\n",
    "https://twitter.com/e869120/status/1387901052683386880\n",
    "\n",
    "## 解説\n",
    "\n",
    "https://twitter.com/e869120/status/1388262816101007363"
   ]
  },
  {
   "cell_type": "code",
   "execution_count": 1,
   "metadata": {
    "dotnet_interactive": {
     "language": "fsharp"
    },
    "polyglot_notebook": {
     "kernelName": "fsharp"
    },
    "vscode": {
     "languageId": "polyglot-notebook"
    }
   },
   "outputs": [
    {
     "data": {
      "text/html": [
       "<div><div></div><div></div><div><strong>Installed Packages</strong><ul><li><span>FSharpPlus, 1.3.2</span></li></ul></div></div>"
      ]
     },
     "metadata": {},
     "output_type": "display_data"
    }
   ],
   "source": [
    "#r \"nuget: FSharpPlus\""
   ]
  },
  {
   "cell_type": "code",
   "execution_count": 2,
   "metadata": {
    "dotnet_interactive": {
     "language": "fsharp"
    },
    "polyglot_notebook": {
     "kernelName": "fsharp"
    },
    "vscode": {
     "languageId": "polyglot-notebook"
    }
   },
   "outputs": [],
   "source": [
    "open System\n",
    "open System.Numerics\n",
    "open System.Collections.Generic\n",
    "open FSharpPlus"
   ]
  },
  {
   "cell_type": "code",
   "execution_count": 6,
   "metadata": {
    "dotnet_interactive": {
     "language": "fsharp"
    },
    "polyglot_notebook": {
     "kernelName": "fsharp"
    },
    "vscode": {
     "languageId": "polyglot-notebook"
    }
   },
   "outputs": [],
   "source": [
    "let solve (papers: (int * int * int * int) seq) =\n",
    "  let papers = papers |> Seq.toArray\n",
    "  let N = papers.Length\n",
    "  // 二次元いもす法を使う\n",
    "  let height, width = 1001, 1001\n",
    "  let field = Array2D.zeroCreate<int> height width\n",
    "  papers |> Seq.iter (fun (lx, ly, rx, ry) ->\n",
    "    field[ly, lx] <- field[ly, lx] + 1\n",
    "    field[ry, rx] <- field[ry, rx] + 1\n",
    "    field[ly, rx] <- field[ly, rx] - 1\n",
    "    field[ry, lx] <- field[ry, lx] - 1)\n",
    "  for y = 0 to height - 1 do\n",
    "    for x = 1 to width - 1 do\n",
    "      field[y, x] <- field[y, x] + field[y, x - 1]\n",
    "  for x = 0 to width - 1 do\n",
    "    for y = 1 to height - 1 do\n",
    "      field[y, x] <- field[y, x] + field[y - 1, x]\n",
    "  let countMap = seq { for y = 0 to height - 1 do for x = 0 to width - 1 do if field[y, x] <> 0 then yield field[y, x] } |> Seq.countBy id |> dict\n",
    "  [for i in 1 .. N -> countMap.TryGetValue(i) |> Option.ofPair |> Option.defaultValue 0]"
   ]
  },
  {
   "cell_type": "code",
   "execution_count": 7,
   "metadata": {
    "dotnet_interactive": {
     "language": "fsharp"
    },
    "polyglot_notebook": {
     "kernelName": "fsharp"
    },
    "vscode": {
     "languageId": "polyglot-notebook"
    }
   },
   "outputs": [
    {
     "data": {
      "text/html": [
       "<table><thead><tr><th><i>index</i></th><th>value</th></tr></thead><tbody><tr><td>0</td><td><div class=\"dni-plaintext\"><pre>2</pre></div></td></tr><tr><td>1</td><td><div class=\"dni-plaintext\"><pre>1</pre></div></td></tr></tbody></table><style>\r\n",
       ".dni-code-hint {\r\n",
       "    font-style: italic;\r\n",
       "    overflow: hidden;\r\n",
       "    white-space: nowrap;\r\n",
       "}\r\n",
       ".dni-treeview {\r\n",
       "    white-space: nowrap;\r\n",
       "}\r\n",
       ".dni-treeview td {\r\n",
       "    vertical-align: top;\r\n",
       "    text-align: start;\r\n",
       "}\r\n",
       "details.dni-treeview {\r\n",
       "    padding-left: 1em;\r\n",
       "}\r\n",
       "table td {\r\n",
       "    text-align: start;\r\n",
       "}\r\n",
       "table tr { \r\n",
       "    vertical-align: top; \r\n",
       "    margin: 0em 0px;\r\n",
       "}\r\n",
       "table tr td pre \r\n",
       "{ \r\n",
       "    vertical-align: top !important; \r\n",
       "    margin: 0em 0px !important;\r\n",
       "} \r\n",
       "table th {\r\n",
       "    text-align: start;\r\n",
       "}\r\n",
       "</style>"
      ]
     },
     "metadata": {},
     "output_type": "display_data"
    }
   ],
   "source": [
    "solve [\n",
    "  1, 1, 3, 2\n",
    "  2, 1, 4, 2\n",
    "]"
   ]
  },
  {
   "cell_type": "code",
   "execution_count": 8,
   "metadata": {
    "dotnet_interactive": {
     "language": "fsharp"
    },
    "polyglot_notebook": {
     "kernelName": "fsharp"
    },
    "vscode": {
     "languageId": "polyglot-notebook"
    }
   },
   "outputs": [
    {
     "data": {
      "text/html": [
       "<table><thead><tr><th><i>index</i></th><th>value</th></tr></thead><tbody><tr><td>0</td><td><div class=\"dni-plaintext\"><pre>9</pre></div></td></tr><tr><td>1</td><td><div class=\"dni-plaintext\"><pre>0</pre></div></td></tr></tbody></table><style>\r\n",
       ".dni-code-hint {\r\n",
       "    font-style: italic;\r\n",
       "    overflow: hidden;\r\n",
       "    white-space: nowrap;\r\n",
       "}\r\n",
       ".dni-treeview {\r\n",
       "    white-space: nowrap;\r\n",
       "}\r\n",
       ".dni-treeview td {\r\n",
       "    vertical-align: top;\r\n",
       "    text-align: start;\r\n",
       "}\r\n",
       "details.dni-treeview {\r\n",
       "    padding-left: 1em;\r\n",
       "}\r\n",
       "table td {\r\n",
       "    text-align: start;\r\n",
       "}\r\n",
       "table tr { \r\n",
       "    vertical-align: top; \r\n",
       "    margin: 0em 0px;\r\n",
       "}\r\n",
       "table tr td pre \r\n",
       "{ \r\n",
       "    vertical-align: top !important; \r\n",
       "    margin: 0em 0px !important;\r\n",
       "} \r\n",
       "table th {\r\n",
       "    text-align: start;\r\n",
       "}\r\n",
       "</style>"
      ]
     },
     "metadata": {},
     "output_type": "display_data"
    }
   ],
   "source": [
    "solve [\n",
    "  1, 1, 3, 4\n",
    "  3, 4, 6, 5\n",
    "]"
   ]
  },
  {
   "cell_type": "code",
   "execution_count": 9,
   "metadata": {
    "dotnet_interactive": {
     "language": "fsharp"
    },
    "polyglot_notebook": {
     "kernelName": "fsharp"
    },
    "vscode": {
     "languageId": "polyglot-notebook"
    }
   },
   "outputs": [
    {
     "data": {
      "text/html": [
       "<table><thead><tr><th><i>index</i></th><th>value</th></tr></thead><tbody><tr><td>0</td><td><div class=\"dni-plaintext\"><pre>1806</pre></div></td></tr><tr><td>1</td><td><div class=\"dni-plaintext\"><pre>990</pre></div></td></tr><tr><td>2</td><td><div class=\"dni-plaintext\"><pre>1013</pre></div></td></tr><tr><td>3</td><td><div class=\"dni-plaintext\"><pre>1221</pre></div></td></tr><tr><td>4</td><td><div class=\"dni-plaintext\"><pre>567</pre></div></td></tr><tr><td>5</td><td><div class=\"dni-plaintext\"><pre>839</pre></div></td></tr><tr><td>6</td><td><div class=\"dni-plaintext\"><pre>413</pre></div></td></tr><tr><td>7</td><td><div class=\"dni-plaintext\"><pre>305</pre></div></td></tr><tr><td>8</td><td><div class=\"dni-plaintext\"><pre>228</pre></div></td></tr><tr><td>9</td><td><div class=\"dni-plaintext\"><pre>121</pre></div></td></tr><tr><td>10</td><td><div class=\"dni-plaintext\"><pre>58</pre></div></td></tr><tr><td>11</td><td><div class=\"dni-plaintext\"><pre>40</pre></div></td></tr><tr><td>12</td><td><div class=\"dni-plaintext\"><pre>0</pre></div></td></tr><tr><td>13</td><td><div class=\"dni-plaintext\"><pre>0</pre></div></td></tr><tr><td>14</td><td><div class=\"dni-plaintext\"><pre>0</pre></div></td></tr><tr><td>15</td><td><div class=\"dni-plaintext\"><pre>0</pre></div></td></tr><tr><td>16</td><td><div class=\"dni-plaintext\"><pre>0</pre></div></td></tr><tr><td>17</td><td><div class=\"dni-plaintext\"><pre>0</pre></div></td></tr><tr><td>18</td><td><div class=\"dni-plaintext\"><pre>0</pre></div></td></tr><tr><td>19</td><td><div class=\"dni-plaintext\"><pre>0</pre></div></td></tr><tr><td colspan=\"2\"><i>... (more)</i></td></tr></tbody></table><style>\r\n",
       ".dni-code-hint {\r\n",
       "    font-style: italic;\r\n",
       "    overflow: hidden;\r\n",
       "    white-space: nowrap;\r\n",
       "}\r\n",
       ".dni-treeview {\r\n",
       "    white-space: nowrap;\r\n",
       "}\r\n",
       ".dni-treeview td {\r\n",
       "    vertical-align: top;\r\n",
       "    text-align: start;\r\n",
       "}\r\n",
       "details.dni-treeview {\r\n",
       "    padding-left: 1em;\r\n",
       "}\r\n",
       "table td {\r\n",
       "    text-align: start;\r\n",
       "}\r\n",
       "table tr { \r\n",
       "    vertical-align: top; \r\n",
       "    margin: 0em 0px;\r\n",
       "}\r\n",
       "table tr td pre \r\n",
       "{ \r\n",
       "    vertical-align: top !important; \r\n",
       "    margin: 0em 0px !important;\r\n",
       "} \r\n",
       "table th {\r\n",
       "    text-align: start;\r\n",
       "}\r\n",
       "</style>"
      ]
     },
     "metadata": {},
     "output_type": "display_data"
    }
   ],
   "source": [
    "solve [\n",
    "  61, 98, 76, 100\n",
    "  70, 99, 95, 100\n",
    "  10, 64, 96, 91\n",
    "  12, 37, 99, 66\n",
    "  63, 93, 65, 95\n",
    "  16, 18, 18, 67\n",
    "  30, 47, 88, 56\n",
    "  33, 6, 38, 8\n",
    "  37, 19, 40, 68\n",
    "  4, 56, 12, 84\n",
    "  3, 16, 92, 78\n",
    "  39, 24, 67, 96\n",
    "  46, 1, 69, 57\n",
    "  40, 34, 65, 65\n",
    "  20, 38, 51, 92\n",
    "  5, 32, 100, 73\n",
    "  7, 33, 92, 55\n",
    "  4, 46, 97, 85\n",
    "  43, 18, 57, 87\n",
    "  15, 29, 54, 74\n",
    "]"
   ]
  },
  {
   "cell_type": "code",
   "execution_count": null,
   "metadata": {
    "dotnet_interactive": {
     "language": "fsharp"
    },
    "polyglot_notebook": {
     "kernelName": "fsharp"
    },
    "vscode": {
     "languageId": "polyglot-notebook"
    }
   },
   "outputs": [],
   "source": []
  }
 ],
 "metadata": {
  "kernelspec": {
   "display_name": ".NET (F#)",
   "language": "F#",
   "name": ".net-fsharp"
  },
  "polyglot_notebook": {
   "kernelInfo": {
    "defaultKernelName": "fsharp",
    "items": [
     {
      "aliases": [
       "f#",
       "F#"
      ],
      "languageName": "F#",
      "name": "fsharp"
     },
     {
      "aliases": [
       "frontend"
      ],
      "name": "vscode"
     },
     {
      "aliases": [],
      "name": ".NET"
     },
     {
      "aliases": [
       "c#",
       "C#"
      ],
      "languageName": "C#",
      "name": "csharp"
     },
     {
      "aliases": [],
      "languageName": "HTML",
      "name": "html"
     },
     {
      "aliases": [],
      "languageName": "HTTP",
      "name": "http"
     },
     {
      "aliases": [
       "js"
      ],
      "languageName": "JavaScript",
      "name": "javascript"
     },
     {
      "aliases": [],
      "languageName": "KQL",
      "name": "kql"
     },
     {
      "aliases": [],
      "languageName": "Mermaid",
      "name": "mermaid"
     },
     {
      "aliases": [
       "powershell"
      ],
      "languageName": "PowerShell",
      "name": "pwsh"
     },
     {
      "aliases": [],
      "languageName": "SQL",
      "name": "sql"
     },
     {
      "aliases": [],
      "name": "value"
     },
     {
      "aliases": [],
      "name": "webview"
     }
    ]
   }
  }
 },
 "nbformat": 4,
 "nbformat_minor": 2
}
