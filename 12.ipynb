{
 "cells": [
  {
   "attachments": {},
   "cell_type": "markdown",
   "metadata": {
    "dotnet_interactive": {
     "language": "fsharp"
    },
    "polyglot_notebook": {
     "kernelName": "fsharp"
    }
   },
   "source": [
    "## 問題\n",
    "\n",
    "https://twitter.com/e869120/status/1381376542836596737\n",
    "\n",
    "## 解説\n",
    "\n",
    "https://twitter.com/e869120/status/1381739128291614720"
   ]
  },
  {
   "cell_type": "code",
   "execution_count": 3,
   "metadata": {
    "dotnet_interactive": {
     "language": "fsharp"
    },
    "polyglot_notebook": {
     "kernelName": "fsharp"
    },
    "vscode": {
     "languageId": "polyglot-notebook"
    }
   },
   "outputs": [
    {
     "data": {
      "text/html": [
       "<div><div></div><div></div><div><strong>Installed Packages</strong><ul><li><span>FSharpPlus, 1.3.2</span></li></ul></div></div>"
      ]
     },
     "metadata": {},
     "output_type": "display_data"
    }
   ],
   "source": [
    "#r \"nuget: FSharpPlus\""
   ]
  },
  {
   "cell_type": "code",
   "execution_count": 4,
   "metadata": {
    "dotnet_interactive": {
     "language": "fsharp"
    },
    "polyglot_notebook": {
     "kernelName": "fsharp"
    },
    "vscode": {
     "languageId": "polyglot-notebook"
    }
   },
   "outputs": [],
   "source": [
    "open System\n",
    "open System.Numerics\n",
    "open System.Collections.Generic\n",
    "open FSharpPlus"
   ]
  },
  {
   "cell_type": "code",
   "execution_count": 5,
   "metadata": {
    "dotnet_interactive": {
     "language": "fsharp"
    },
    "polyglot_notebook": {
     "kernelName": "fsharp"
    },
    "vscode": {
     "languageId": "polyglot-notebook"
    }
   },
   "outputs": [],
   "source": [
    "// Union-Findを使って判定したいので、Union-Find木を実装\n",
    "\n",
    "type [<Struct>] UnionFindTreeId = UnionFindTreeId of int\n",
    "with\n",
    "  static member op_Implicit (x: int) = UnionFindTreeId x\n",
    "\n",
    "type UnionFindTree(count: int) =\n",
    "  let parents = Array.create count -1\n",
    "  member _.count = parents.Length\n",
    "  member this.findRoot((UnionFindTreeId i) as treeId) =\n",
    "    if parents[i] < 0 then treeId else\n",
    "    let (UnionFindTreeId root) as rootId = this.findRoot(parents[i])\n",
    "    parents[i] <- root\n",
    "    rootId\n",
    "  member this.size x =\n",
    "    let (UnionFindTreeId root) = this.findRoot x\n",
    "    -parents[root]\n",
    "  member this.isSame x y = this.findRoot(x) = this.findRoot(y)\n",
    "  member this.union x y =\n",
    "    let x, y = this.findRoot x, this.findRoot y\n",
    "    if x = y then false else\n",
    "    let (UnionFindTreeId small), (UnionFindTreeId large) = if this.size x < this.size y then x, y else y, x\n",
    "    parents[large] <- parents[large] + parents[small]\n",
    "    parents[small] <- large\n",
    "    true"
   ]
  },
  {
   "cell_type": "code",
   "execution_count": 6,
   "metadata": {
    "dotnet_interactive": {
     "language": "fsharp"
    },
    "polyglot_notebook": {
     "kernelName": "fsharp"
    },
    "vscode": {
     "languageId": "polyglot-notebook"
    }
   },
   "outputs": [],
   "source": [
    "let solve H W Qs =\n",
    "  // 元の問題だと直感に反してH(height)がx、W(width)がyなのでそれに合わせる\n",
    "  // フィールドの2次元配列は上下左右に余分に1マス分確保して、絶対赤くならない番兵とする\n",
    "  let field = Array2D.zeroCreate<bool> (H + 2) (W + 2)\n",
    "  let uft = UnionFindTree(H * W)\n",
    "  let getId (x, y) = (x - 1) * W + (y - 1) |> UnionFindTreeId\n",
    "  Qs |> Seq.choose (function\n",
    "    | [1; x; y] when not field[x, y] ->\n",
    "      // 自身のマスを赤くし、上下左右の赤マスと結合する\n",
    "      field[x, y] <- true\n",
    "      let uftId = getId (x, y)\n",
    "      let redCells = [x - 1, y; x + 1, y; x, y - 1; x, y + 1] |> filter (fun (x, y) -> field[x, y])\n",
    "      redCells |> List.iter (getId >> uft.union uftId >> ignore)\n",
    "      None\n",
    "    | [1; _; _] -> None\n",
    "    | [2; xa; ya; xb; yb] ->\n",
    "      // 始点と終点がそもそも赤いのが前提条件、その上で始点と終点が結合されているかどうか\n",
    "      let result = field[xa, ya] && field[xb, yb] && uft.isSame (getId (xa, ya)) (getId (xb, yb))\n",
    "      Some result\n",
    "    | otherwise -> failwith $\"{otherwise} は入力として不正\")\n",
    "  |> Seq.toList\n",
    "  "
   ]
  },
  {
   "cell_type": "code",
   "execution_count": 7,
   "metadata": {
    "dotnet_interactive": {
     "language": "fsharp"
    },
    "polyglot_notebook": {
     "kernelName": "fsharp"
    },
    "vscode": {
     "languageId": "polyglot-notebook"
    }
   },
   "outputs": [
    {
     "data": {
      "text/html": [
       "<table><thead><tr><th><i>index</i></th><th>value</th></tr></thead><tbody><tr><td>0</td><td><div class=\"dni-plaintext\"><pre>False</pre></div></td></tr><tr><td>1</td><td><div class=\"dni-plaintext\"><pre>False</pre></div></td></tr><tr><td>2</td><td><div class=\"dni-plaintext\"><pre>True</pre></div></td></tr><tr><td>3</td><td><div class=\"dni-plaintext\"><pre>True</pre></div></td></tr><tr><td>4</td><td><div class=\"dni-plaintext\"><pre>False</pre></div></td></tr></tbody></table><style>\r\n",
       ".dni-code-hint {\r\n",
       "    font-style: italic;\r\n",
       "    overflow: hidden;\r\n",
       "    white-space: nowrap;\r\n",
       "}\r\n",
       ".dni-treeview {\r\n",
       "    white-space: nowrap;\r\n",
       "}\r\n",
       ".dni-treeview td {\r\n",
       "    vertical-align: top;\r\n",
       "    text-align: start;\r\n",
       "}\r\n",
       "details.dni-treeview {\r\n",
       "    padding-left: 1em;\r\n",
       "}\r\n",
       "table td {\r\n",
       "    text-align: start;\r\n",
       "}\r\n",
       "table tr { \r\n",
       "    vertical-align: top; \r\n",
       "    margin: 0em 0px;\r\n",
       "}\r\n",
       "table tr td pre \r\n",
       "{ \r\n",
       "    vertical-align: top !important; \r\n",
       "    margin: 0em 0px !important;\r\n",
       "} \r\n",
       "table th {\r\n",
       "    text-align: start;\r\n",
       "}\r\n",
       "</style>"
      ]
     },
     "metadata": {},
     "output_type": "display_data"
    }
   ],
   "source": [
    "solve 3 3 [\n",
    "  [1; 2; 2]\n",
    "  [1; 1; 1]\n",
    "  [2; 1; 1; 2; 2]\n",
    "  [1; 3; 2]\n",
    "  [2; 1; 1; 2; 2]\n",
    "  [2; 2; 2; 3; 2]\n",
    "  [1; 2; 3]\n",
    "  [1; 2; 1]\n",
    "  [2; 1; 1; 2; 2]\n",
    "  [2; 1; 1; 3; 3]\n",
    "]"
   ]
  },
  {
   "cell_type": "code",
   "execution_count": 8,
   "metadata": {
    "dotnet_interactive": {
     "language": "fsharp"
    },
    "polyglot_notebook": {
     "kernelName": "fsharp"
    },
    "vscode": {
     "languageId": "polyglot-notebook"
    }
   },
   "outputs": [
    {
     "data": {
      "text/html": [
       "<table><thead><tr><th><i>index</i></th><th>value</th></tr></thead><tbody><tr><td>0</td><td><div class=\"dni-plaintext\"><pre>False</pre></div></td></tr><tr><td>1</td><td><div class=\"dni-plaintext\"><pre>True</pre></div></td></tr></tbody></table><style>\r\n",
       ".dni-code-hint {\r\n",
       "    font-style: italic;\r\n",
       "    overflow: hidden;\r\n",
       "    white-space: nowrap;\r\n",
       "}\r\n",
       ".dni-treeview {\r\n",
       "    white-space: nowrap;\r\n",
       "}\r\n",
       ".dni-treeview td {\r\n",
       "    vertical-align: top;\r\n",
       "    text-align: start;\r\n",
       "}\r\n",
       "details.dni-treeview {\r\n",
       "    padding-left: 1em;\r\n",
       "}\r\n",
       "table td {\r\n",
       "    text-align: start;\r\n",
       "}\r\n",
       "table tr { \r\n",
       "    vertical-align: top; \r\n",
       "    margin: 0em 0px;\r\n",
       "}\r\n",
       "table tr td pre \r\n",
       "{ \r\n",
       "    vertical-align: top !important; \r\n",
       "    margin: 0em 0px !important;\r\n",
       "} \r\n",
       "table th {\r\n",
       "    text-align: start;\r\n",
       "}\r\n",
       "</style>"
      ]
     },
     "metadata": {},
     "output_type": "display_data"
    }
   ],
   "source": [
    "solve 1 1 [\n",
    "  [2; 1; 1; 1; 1]\n",
    "  [1; 1; 1]\n",
    "  [2; 1; 1; 1; 1]\n",
    "]"
   ]
  },
  {
   "cell_type": "code",
   "execution_count": null,
   "metadata": {
    "dotnet_interactive": {
     "language": "fsharp"
    },
    "polyglot_notebook": {
     "kernelName": "fsharp"
    },
    "vscode": {
     "languageId": "polyglot-notebook"
    }
   },
   "outputs": [],
   "source": []
  }
 ],
 "metadata": {
  "kernelspec": {
   "display_name": ".NET (F#)",
   "language": "F#",
   "name": ".net-fsharp"
  },
  "polyglot_notebook": {
   "kernelInfo": {
    "defaultKernelName": "fsharp",
    "items": [
     {
      "aliases": [
       "f#",
       "F#"
      ],
      "languageName": "F#",
      "name": "fsharp"
     },
     {
      "aliases": [
       "frontend"
      ],
      "name": "vscode"
     },
     {
      "aliases": [],
      "name": ".NET"
     },
     {
      "aliases": [
       "c#",
       "C#"
      ],
      "languageName": "C#",
      "name": "csharp"
     },
     {
      "aliases": [],
      "languageName": "HTML",
      "name": "html"
     },
     {
      "aliases": [],
      "languageName": "HTTP",
      "name": "http"
     },
     {
      "aliases": [],
      "languageName": "KQL",
      "name": "kql"
     },
     {
      "aliases": [],
      "languageName": "Mermaid",
      "name": "mermaid"
     },
     {
      "aliases": [
       "powershell"
      ],
      "languageName": "PowerShell",
      "name": "pwsh"
     },
     {
      "aliases": [],
      "languageName": "SQL",
      "name": "sql"
     },
     {
      "aliases": [],
      "name": "value"
     },
     {
      "aliases": [
       "js"
      ],
      "languageName": "JavaScript",
      "name": "javascript"
     },
     {
      "aliases": [],
      "name": "webview"
     }
    ]
   }
  }
 },
 "nbformat": 4,
 "nbformat_minor": 2
}
