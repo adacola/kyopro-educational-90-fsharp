{
 "cells": [
  {
   "attachments": {},
   "cell_type": "markdown",
   "metadata": {
    "dotnet_interactive": {
     "language": "fsharp"
    },
    "polyglot_notebook": {
     "kernelName": "fsharp"
    }
   },
   "source": [
    "## 問題\n",
    "\n",
    "https://twitter.com/e869120/status/1379202843622576130\n",
    "\n",
    "## 解説\n",
    "\n",
    "https://twitter.com/e869120/status/1379565222541680644"
   ]
  },
  {
   "cell_type": "code",
   "execution_count": 1,
   "metadata": {
    "dotnet_interactive": {
     "language": "fsharp"
    },
    "polyglot_notebook": {
     "kernelName": "fsharp"
    },
    "vscode": {
     "languageId": "polyglot-notebook"
    }
   },
   "outputs": [
    {
     "data": {
      "text/html": [
       "<div><div></div><div></div><div><strong>Installed Packages</strong><ul><li><span>FSharpPlus, 1.3.2</span></li></ul></div></div>"
      ]
     },
     "metadata": {},
     "output_type": "display_data"
    }
   ],
   "source": [
    "#r \"nuget: FSharpPlus\""
   ]
  },
  {
   "cell_type": "code",
   "execution_count": 2,
   "metadata": {
    "dotnet_interactive": {
     "language": "fsharp"
    },
    "polyglot_notebook": {
     "kernelName": "fsharp"
    },
    "vscode": {
     "languageId": "polyglot-notebook"
    }
   },
   "outputs": [],
   "source": [
    "open System\n",
    "open System.Numerics\n",
    "open System.Collections.Generic\n",
    "open FSharpPlus"
   ]
  },
  {
   "cell_type": "code",
   "execution_count": 5,
   "metadata": {
    "dotnet_interactive": {
     "language": "fsharp"
    },
    "polyglot_notebook": {
     "kernelName": "fsharp"
    },
    "vscode": {
     "languageId": "polyglot-notebook"
    }
   },
   "outputs": [],
   "source": [
    "let solve As Bs =\n",
    "  let classes = As |> Seq.sort |> Seq.toArray\n",
    "  Bs |> Seq.map (fun b ->\n",
    "    let index = Array.BinarySearch(classes, b)\n",
    "    if 0 <= index then abs (classes[index] - b) else\n",
    "    let nextIndex = ~~~index\n",
    "    let prevIndex = nextIndex - 1 </ max /> 0\n",
    "    let nextIndex = nextIndex </ min /> (classes.Length - 1)\n",
    "    abs (classes[prevIndex] - b) </ min /> abs (classes[nextIndex] - b))\n",
    "  |> Seq.toList"
   ]
  },
  {
   "cell_type": "code",
   "execution_count": 27,
   "metadata": {
    "dotnet_interactive": {
     "language": "fsharp"
    },
    "polyglot_notebook": {
     "kernelName": "fsharp"
    },
    "vscode": {
     "languageId": "polyglot-notebook"
    }
   },
   "outputs": [
    {
     "data": {
      "text/html": [
       "<table><thead><tr><th><i>index</i></th><th>value</th></tr></thead><tbody><tr><td>0</td><td><div class=\"dni-plaintext\"><pre>112</pre></div></td></tr><tr><td>1</td><td><div class=\"dni-plaintext\"><pre>208</pre></div></td></tr><tr><td>2</td><td><div class=\"dni-plaintext\"><pre>171</pre></div></td></tr></tbody></table><style>\r\n",
       ".dni-code-hint {\r\n",
       "    font-style: italic;\r\n",
       "    overflow: hidden;\r\n",
       "    white-space: nowrap;\r\n",
       "}\r\n",
       ".dni-treeview {\r\n",
       "    white-space: nowrap;\r\n",
       "}\r\n",
       ".dni-treeview td {\r\n",
       "    vertical-align: top;\r\n",
       "    text-align: start;\r\n",
       "}\r\n",
       "details.dni-treeview {\r\n",
       "    padding-left: 1em;\r\n",
       "}\r\n",
       "table td {\r\n",
       "    text-align: start;\r\n",
       "}\r\n",
       "table tr { \r\n",
       "    vertical-align: top; \r\n",
       "    margin: 0em 0px;\r\n",
       "}\r\n",
       "table tr td pre \r\n",
       "{ \r\n",
       "    vertical-align: top !important; \r\n",
       "    margin: 0em 0px !important;\r\n",
       "} \r\n",
       "table th {\r\n",
       "    text-align: start;\r\n",
       "}\r\n",
       "</style>"
      ]
     },
     "metadata": {},
     "output_type": "display_data"
    }
   ],
   "source": [
    "solve [4000; 4400; 5000; 3200] [3312; 2992; 4229]"
   ]
  },
  {
   "cell_type": "code",
   "execution_count": 28,
   "metadata": {
    "dotnet_interactive": {
     "language": "fsharp"
    },
    "polyglot_notebook": {
     "kernelName": "fsharp"
    },
    "vscode": {
     "languageId": "polyglot-notebook"
    }
   },
   "outputs": [
    {
     "data": {
      "text/html": [
       "<table><thead><tr><th><i>index</i></th><th>value</th></tr></thead><tbody><tr><td>0</td><td><div class=\"dni-plaintext\"><pre>418</pre></div></td></tr><tr><td>1</td><td><div class=\"dni-plaintext\"><pre>462</pre></div></td></tr><tr><td>2</td><td><div class=\"dni-plaintext\"><pre>680</pre></div></td></tr><tr><td>3</td><td><div class=\"dni-plaintext\"><pre>688</pre></div></td></tr><tr><td>4</td><td><div class=\"dni-plaintext\"><pre>704</pre></div></td></tr><tr><td>5</td><td><div class=\"dni-plaintext\"><pre>743</pre></div></td></tr><tr><td>6</td><td><div class=\"dni-plaintext\"><pre>889</pre></div></td></tr><tr><td>7</td><td><div class=\"dni-plaintext\"><pre>960</pre></div></td></tr><tr><td>8</td><td><div class=\"dni-plaintext\"><pre>987</pre></div></td></tr><tr><td>9</td><td><div class=\"dni-plaintext\"><pre>1006</pre></div></td></tr></tbody></table><style>\r\n",
       ".dni-code-hint {\r\n",
       "    font-style: italic;\r\n",
       "    overflow: hidden;\r\n",
       "    white-space: nowrap;\r\n",
       "}\r\n",
       ".dni-treeview {\r\n",
       "    white-space: nowrap;\r\n",
       "}\r\n",
       ".dni-treeview td {\r\n",
       "    vertical-align: top;\r\n",
       "    text-align: start;\r\n",
       "}\r\n",
       "details.dni-treeview {\r\n",
       "    padding-left: 1em;\r\n",
       "}\r\n",
       "table td {\r\n",
       "    text-align: start;\r\n",
       "}\r\n",
       "table tr { \r\n",
       "    vertical-align: top; \r\n",
       "    margin: 0em 0px;\r\n",
       "}\r\n",
       "table tr td pre \r\n",
       "{ \r\n",
       "    vertical-align: top !important; \r\n",
       "    margin: 0em 0px !important;\r\n",
       "} \r\n",
       "table th {\r\n",
       "    text-align: start;\r\n",
       "}\r\n",
       "</style>"
      ]
     },
     "metadata": {},
     "output_type": "display_data"
    }
   ],
   "source": [
    "solve [4000] [3582; 3538; 3320; 3312; 3296; 3257; 3111; 3040; 3013; 2994]"
   ]
  },
  {
   "cell_type": "code",
   "execution_count": 29,
   "metadata": {
    "dotnet_interactive": {
     "language": "fsharp"
    },
    "polyglot_notebook": {
     "kernelName": "fsharp"
    },
    "vscode": {
     "languageId": "polyglot-notebook"
    }
   },
   "outputs": [
    {
     "data": {
      "text/html": [
       "<table><thead><tr><th><i>index</i></th><th>value</th></tr></thead><tbody><tr><td>0</td><td><div class=\"dni-plaintext\"><pre>100095871</pre></div></td></tr><tr><td>1</td><td><div class=\"dni-plaintext\"><pre>79889694</pre></div></td></tr><tr><td>2</td><td><div class=\"dni-plaintext\"><pre>100100099</pre></div></td></tr><tr><td>3</td><td><div class=\"dni-plaintext\"><pre>15910204</pre></div></td></tr><tr><td>4</td><td><div class=\"dni-plaintext\"><pre>100096518</pre></div></td></tr><tr><td>5</td><td><div class=\"dni-plaintext\"><pre>72224448</pre></div></td></tr><tr><td>6</td><td><div class=\"dni-plaintext\"><pre>0</pre></div></td></tr><tr><td>7</td><td><div class=\"dni-plaintext\"><pre>99230980</pre></div></td></tr><tr><td>8</td><td><div class=\"dni-plaintext\"><pre>100101</pre></div></td></tr><tr><td>9</td><td><div class=\"dni-plaintext\"><pre>0</pre></div></td></tr></tbody></table><style>\r\n",
       ".dni-code-hint {\r\n",
       "    font-style: italic;\r\n",
       "    overflow: hidden;\r\n",
       "    white-space: nowrap;\r\n",
       "}\r\n",
       ".dni-treeview {\r\n",
       "    white-space: nowrap;\r\n",
       "}\r\n",
       ".dni-treeview td {\r\n",
       "    vertical-align: top;\r\n",
       "    text-align: start;\r\n",
       "}\r\n",
       "details.dni-treeview {\r\n",
       "    padding-left: 1em;\r\n",
       "}\r\n",
       "table td {\r\n",
       "    text-align: start;\r\n",
       "}\r\n",
       "table tr { \r\n",
       "    vertical-align: top; \r\n",
       "    margin: 0em 0px;\r\n",
       "}\r\n",
       "table tr td pre \r\n",
       "{ \r\n",
       "    vertical-align: top !important; \r\n",
       "    margin: 0em 0px !important;\r\n",
       "} \r\n",
       "table th {\r\n",
       "    text-align: start;\r\n",
       "}\r\n",
       "</style>"
      ]
     },
     "metadata": {},
     "output_type": "display_data"
    }
   ],
   "source": [
    "solve [869120000; 998244353; 777777777; 123456789; 100100100; 464646464; 987654321; 252525252; 869120001; 1000000000] [4229; 20210406; 1; 268435456; 3582; 536870912; 1000000000; 869120; 99999999; 869120001]"
   ]
  },
  {
   "cell_type": "code",
   "execution_count": 30,
   "metadata": {
    "dotnet_interactive": {
     "language": "fsharp"
    },
    "polyglot_notebook": {
     "kernelName": "fsharp"
    },
    "vscode": {
     "languageId": "polyglot-notebook"
    }
   },
   "outputs": [
    {
     "data": {
      "text/html": [
       "<table><thead><tr><th><i>index</i></th><th>value</th></tr></thead><tbody><tr><td>0</td><td><div class=\"dni-plaintext\"><pre>4031345</pre></div></td></tr><tr><td>1</td><td><div class=\"dni-plaintext\"><pre>3062589</pre></div></td></tr><tr><td>2</td><td><div class=\"dni-plaintext\"><pre>2044744</pre></div></td></tr><tr><td>3</td><td><div class=\"dni-plaintext\"><pre>2866703</pre></div></td></tr><tr><td>4</td><td><div class=\"dni-plaintext\"><pre>4241278</pre></div></td></tr><tr><td>5</td><td><div class=\"dni-plaintext\"><pre>3081744</pre></div></td></tr><tr><td>6</td><td><div class=\"dni-plaintext\"><pre>3070186</pre></div></td></tr><tr><td>7</td><td><div class=\"dni-plaintext\"><pre>3564353</pre></div></td></tr><tr><td>8</td><td><div class=\"dni-plaintext\"><pre>6718521</pre></div></td></tr><tr><td>9</td><td><div class=\"dni-plaintext\"><pre>8642412</pre></div></td></tr><tr><td>10</td><td><div class=\"dni-plaintext\"><pre>2455689</pre></div></td></tr><tr><td>11</td><td><div class=\"dni-plaintext\"><pre>2118050</pre></div></td></tr><tr><td>12</td><td><div class=\"dni-plaintext\"><pre>700867</pre></div></td></tr><tr><td>13</td><td><div class=\"dni-plaintext\"><pre>4223790</pre></div></td></tr><tr><td>14</td><td><div class=\"dni-plaintext\"><pre>1212487</pre></div></td></tr><tr><td>15</td><td><div class=\"dni-plaintext\"><pre>8277581</pre></div></td></tr><tr><td>16</td><td><div class=\"dni-plaintext\"><pre>13802639</pre></div></td></tr><tr><td>17</td><td><div class=\"dni-plaintext\"><pre>2447438</pre></div></td></tr><tr><td>18</td><td><div class=\"dni-plaintext\"><pre>251455</pre></div></td></tr><tr><td>19</td><td><div class=\"dni-plaintext\"><pre>887671</pre></div></td></tr><tr><td colspan=\"2\"><i>... (more)</i></td></tr></tbody></table><style>\r\n",
       ".dni-code-hint {\r\n",
       "    font-style: italic;\r\n",
       "    overflow: hidden;\r\n",
       "    white-space: nowrap;\r\n",
       "}\r\n",
       ".dni-treeview {\r\n",
       "    white-space: nowrap;\r\n",
       "}\r\n",
       ".dni-treeview td {\r\n",
       "    vertical-align: top;\r\n",
       "    text-align: start;\r\n",
       "}\r\n",
       "details.dni-treeview {\r\n",
       "    padding-left: 1em;\r\n",
       "}\r\n",
       "table td {\r\n",
       "    text-align: start;\r\n",
       "}\r\n",
       "table tr { \r\n",
       "    vertical-align: top; \r\n",
       "    margin: 0em 0px;\r\n",
       "}\r\n",
       "table tr td pre \r\n",
       "{ \r\n",
       "    vertical-align: top !important; \r\n",
       "    margin: 0em 0px !important;\r\n",
       "} \r\n",
       "table th {\r\n",
       "    text-align: start;\r\n",
       "}\r\n",
       "</style>"
      ]
     },
     "metadata": {},
     "output_type": "display_data"
    }
   ],
   "source": [
    "solve\n",
    "  [\n",
    "    298750376\n",
    "    229032640\n",
    "    602876667\n",
    "    944779015\n",
    "    909539868\n",
    "    533609371\n",
    "    231368330\n",
    "    445484152\n",
    "    408704870\n",
    "    850216874\n",
    "    349286798\n",
    "    30417810\n",
    "    807260002\n",
    "    554049450\n",
    "    40706045\n",
    "    380488344\n",
    "    749325840\n",
    "    801881841\n",
    "    459457853\n",
    "    66691229\n",
    "    5235900\n",
    "    8100458\n",
    "    46697277\n",
    "    997429858\n",
    "    827651689\n",
    "    790051948\n",
    "    981897272\n",
    "    271364774\n",
    "    536232393\n",
    "    997361572\n",
    "    449659237\n",
    "    602191750\n",
    "    294800444\n",
    "    346669663\n",
    "    792837293\n",
    "    277667068\n",
    "    997282249\n",
    "    468293808\n",
    "    444906878\n",
    "    702693341\n",
    "    894286137\n",
    "    845317003\n",
    "    27053625\n",
    "    926547765\n",
    "    739689211\n",
    "    447395911\n",
    "    902031510\n",
    "    326127348\n",
    "    582956343\n",
    "    842918193\n",
    "    235655766\n",
    "    844300842\n",
    "    438389323\n",
    "    406413067\n",
    "    862896425\n",
    "    464876303\n",
    "    68833418\n",
    "    76340212\n",
    "    911399808\n",
    "    745744264\n",
    "    551223563\n",
    "    854507876\n",
    "    196296968\n",
    "    52144186\n",
    "    431165823\n",
    "    275217640\n",
    "    424495332\n",
    "    847375861\n",
    "    337078801\n",
    "    83054466\n",
    "    648322745\n",
    "    694789156\n",
    "    301518763\n",
    "    319851750\n",
    "    432518459\n",
    "    772897937\n",
    "    630628124\n",
    "    581390864\n",
    "    313132255\n",
    "    350770227\n",
    "    642944345\n",
    "    677742851\n",
    "    448945480\n",
    "    688009163\n",
    "    160941957\n",
    "    290297295\n",
    "    5532462\n",
    "    823543277\n",
    "    19634445\n",
    "    15791361\n",
    "    193309093\n",
    "    66202596\n",
    "    72364149\n",
    "    743270896\n",
    "    297240520\n",
    "    264035189\n",
    "    898589962\n",
    "    59916738\n",
    "    307942952\n",
    "    403411309\n",
    "  ]\n",
    "  [\n",
    "    930579110\n",
    "    22697034\n",
    "    44652533\n",
    "    280533771\n",
    "    753567118\n",
    "    684927419\n",
    "    923477579\n",
    "    557613803\n",
    "    779616458\n",
    "    389130756\n",
    "    323671659\n",
    "    3117850\n",
    "    408004003\n",
    "    224808850\n",
    "    18421958\n",
    "    359047808\n",
    "    364572866\n",
    "    334631363\n",
    "    854759331\n",
    "    647435074\n",
    "    826055423\n",
    "    668443532\n",
    "    620408208\n",
    "    32237184\n",
    "    67299071\n",
    "    251185742\n",
    "    217292659\n",
    "    16181227\n",
    "    850865411\n",
    "    218577687\n",
    "  ]"
   ]
  },
  {
   "cell_type": "code",
   "execution_count": null,
   "metadata": {
    "dotnet_interactive": {
     "language": "fsharp"
    },
    "polyglot_notebook": {
     "kernelName": "fsharp"
    },
    "vscode": {
     "languageId": "polyglot-notebook"
    }
   },
   "outputs": [],
   "source": []
  }
 ],
 "metadata": {
  "kernelspec": {
   "display_name": ".NET (F#)",
   "language": "F#",
   "name": ".net-fsharp"
  },
  "polyglot_notebook": {
   "kernelInfo": {
    "defaultKernelName": "fsharp",
    "items": [
     {
      "aliases": [
       "f#",
       "F#"
      ],
      "languageName": "F#",
      "name": "fsharp"
     },
     {
      "aliases": [
       "frontend"
      ],
      "name": "vscode"
     },
     {
      "aliases": [],
      "name": ".NET"
     },
     {
      "aliases": [
       "c#",
       "C#"
      ],
      "languageName": "C#",
      "name": "csharp"
     },
     {
      "aliases": [],
      "languageName": "HTML",
      "name": "html"
     },
     {
      "aliases": [],
      "languageName": "HTTP",
      "name": "http"
     },
     {
      "aliases": [
       "js"
      ],
      "languageName": "JavaScript",
      "name": "javascript"
     },
     {
      "aliases": [],
      "languageName": "KQL",
      "name": "kql"
     },
     {
      "aliases": [],
      "languageName": "Mermaid",
      "name": "mermaid"
     },
     {
      "aliases": [
       "powershell"
      ],
      "languageName": "PowerShell",
      "name": "pwsh"
     },
     {
      "aliases": [],
      "languageName": "SQL",
      "name": "sql"
     },
     {
      "aliases": [],
      "name": "value"
     },
     {
      "aliases": [],
      "name": "webview"
     }
    ]
   }
  }
 },
 "nbformat": 4,
 "nbformat_minor": 2
}
