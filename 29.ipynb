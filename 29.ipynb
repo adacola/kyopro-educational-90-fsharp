{
 "cells": [
  {
   "attachments": {},
   "cell_type": "markdown",
   "metadata": {
    "dotnet_interactive": {
     "language": "fsharp"
    },
    "polyglot_notebook": {
     "kernelName": "fsharp"
    }
   },
   "source": [
    "## 問題\n",
    "\n",
    "https://twitter.com/e869120/status/1388262816101007363\n",
    "\n",
    "## 解説\n",
    "\n",
    "https://twitter.com/e869120/status/1388674962823663619"
   ]
  },
  {
   "cell_type": "code",
   "execution_count": 1,
   "metadata": {
    "dotnet_interactive": {
     "language": "fsharp"
    },
    "polyglot_notebook": {
     "kernelName": "fsharp"
    },
    "vscode": {
     "languageId": "polyglot-notebook"
    }
   },
   "outputs": [
    {
     "data": {
      "text/html": [
       "<div><div></div><div></div><div><strong>Installed Packages</strong><ul><li><span>FSharpPlus, 1.3.2</span></li></ul></div></div>"
      ]
     },
     "metadata": {},
     "output_type": "display_data"
    }
   ],
   "source": [
    "#r \"nuget: FSharpPlus\""
   ]
  },
  {
   "cell_type": "code",
   "execution_count": 2,
   "metadata": {
    "dotnet_interactive": {
     "language": "fsharp"
    },
    "polyglot_notebook": {
     "kernelName": "fsharp"
    },
    "vscode": {
     "languageId": "polyglot-notebook"
    }
   },
   "outputs": [],
   "source": [
    "open System\n",
    "open System.Numerics\n",
    "open System.Collections.Generic\n",
    "open FSharpPlus"
   ]
  },
  {
   "cell_type": "code",
   "execution_count": 3,
   "metadata": {
    "dotnet_interactive": {
     "language": "fsharp"
    },
    "polyglot_notebook": {
     "kernelName": "fsharp"
    },
    "vscode": {
     "languageId": "polyglot-notebook"
    }
   },
   "outputs": [],
   "source": [
    "let solveUsingCompression W Ns =\n",
    "  let Ns = Ns |> Seq.toList\n",
    "  let positionDict = Ns |> Seq.collect (fun (l, r) -> [l; r]) |> Seq.distinct |> Seq.sort |> Seq.mapi (fun i x -> x, i) |> dict\n",
    "  let heights = Array.zeroCreate<int> positionDict.Count\n",
    "  Ns |> List.map (fun (l, r) ->\n",
    "    let height = seq { l .. r } |> Seq.choose (positionDict.TryGetValue >> Option.ofPair >> Option.map (Array.get heights)) |> Seq.max |> (+) 1\n",
    "    seq { l .. r } |> Seq.iter (positionDict.TryGetValue >> Option.ofPair >> Option.iter (fun i -> heights[i] <- height))\n",
    "    height)"
   ]
  },
  {
   "cell_type": "code",
   "execution_count": 4,
   "metadata": {
    "dotnet_interactive": {
     "language": "fsharp"
    },
    "polyglot_notebook": {
     "kernelName": "fsharp"
    },
    "vscode": {
     "languageId": "polyglot-notebook"
    }
   },
   "outputs": [
    {
     "data": {
      "text/html": [
       "<table><thead><tr><th><i>index</i></th><th>value</th></tr></thead><tbody><tr><td>0</td><td><div class=\"dni-plaintext\"><pre>1</pre></div></td></tr><tr><td>1</td><td><div class=\"dni-plaintext\"><pre>2</pre></div></td></tr><tr><td>2</td><td><div class=\"dni-plaintext\"><pre>2</pre></div></td></tr><tr><td>3</td><td><div class=\"dni-plaintext\"><pre>3</pre></div></td></tr></tbody></table><style>\r\n",
       ".dni-code-hint {\r\n",
       "    font-style: italic;\r\n",
       "    overflow: hidden;\r\n",
       "    white-space: nowrap;\r\n",
       "}\r\n",
       ".dni-treeview {\r\n",
       "    white-space: nowrap;\r\n",
       "}\r\n",
       ".dni-treeview td {\r\n",
       "    vertical-align: top;\r\n",
       "    text-align: start;\r\n",
       "}\r\n",
       "details.dni-treeview {\r\n",
       "    padding-left: 1em;\r\n",
       "}\r\n",
       "table td {\r\n",
       "    text-align: start;\r\n",
       "}\r\n",
       "table tr { \r\n",
       "    vertical-align: top; \r\n",
       "    margin: 0em 0px;\r\n",
       "}\r\n",
       "table tr td pre \r\n",
       "{ \r\n",
       "    vertical-align: top !important; \r\n",
       "    margin: 0em 0px !important;\r\n",
       "} \r\n",
       "table th {\r\n",
       "    text-align: start;\r\n",
       "}\r\n",
       "</style>"
      ]
     },
     "metadata": {},
     "output_type": "display_data"
    }
   ],
   "source": [
    "solveUsingCompression 100 [\n",
    "  27, 100\n",
    "  8, 39\n",
    "  83, 97\n",
    "  24, 75\n",
    "]"
   ]
  },
  {
   "cell_type": "code",
   "execution_count": 5,
   "metadata": {
    "dotnet_interactive": {
     "language": "fsharp"
    },
    "polyglot_notebook": {
     "kernelName": "fsharp"
    },
    "vscode": {
     "languageId": "polyglot-notebook"
    }
   },
   "outputs": [
    {
     "data": {
      "text/html": [
       "<table><thead><tr><th><i>index</i></th><th>value</th></tr></thead><tbody><tr><td>0</td><td><div class=\"dni-plaintext\"><pre>1</pre></div></td></tr><tr><td>1</td><td><div class=\"dni-plaintext\"><pre>2</pre></div></td></tr><tr><td>2</td><td><div class=\"dni-plaintext\"><pre>3</pre></div></td></tr><tr><td>3</td><td><div class=\"dni-plaintext\"><pre>4</pre></div></td></tr><tr><td>4</td><td><div class=\"dni-plaintext\"><pre>4</pre></div></td></tr></tbody></table><style>\r\n",
       ".dni-code-hint {\r\n",
       "    font-style: italic;\r\n",
       "    overflow: hidden;\r\n",
       "    white-space: nowrap;\r\n",
       "}\r\n",
       ".dni-treeview {\r\n",
       "    white-space: nowrap;\r\n",
       "}\r\n",
       ".dni-treeview td {\r\n",
       "    vertical-align: top;\r\n",
       "    text-align: start;\r\n",
       "}\r\n",
       "details.dni-treeview {\r\n",
       "    padding-left: 1em;\r\n",
       "}\r\n",
       "table td {\r\n",
       "    text-align: start;\r\n",
       "}\r\n",
       "table tr { \r\n",
       "    vertical-align: top; \r\n",
       "    margin: 0em 0px;\r\n",
       "}\r\n",
       "table tr td pre \r\n",
       "{ \r\n",
       "    vertical-align: top !important; \r\n",
       "    margin: 0em 0px !important;\r\n",
       "} \r\n",
       "table th {\r\n",
       "    text-align: start;\r\n",
       "}\r\n",
       "</style>"
      ]
     },
     "metadata": {},
     "output_type": "display_data"
    }
   ],
   "source": [
    "solveUsingCompression 3 [\n",
    "  1, 2\n",
    "  2, 2\n",
    "  2, 3\n",
    "  3, 3\n",
    "  1, 2\n",
    "]"
   ]
  },
  {
   "cell_type": "code",
   "execution_count": 6,
   "metadata": {
    "dotnet_interactive": {
     "language": "fsharp"
    },
    "polyglot_notebook": {
     "kernelName": "fsharp"
    },
    "vscode": {
     "languageId": "polyglot-notebook"
    }
   },
   "outputs": [
    {
     "data": {
      "text/html": [
       "<table><thead><tr><th><i>index</i></th><th>value</th></tr></thead><tbody><tr><td>0</td><td><div class=\"dni-plaintext\"><pre>1</pre></div></td></tr><tr><td>1</td><td><div class=\"dni-plaintext\"><pre>2</pre></div></td></tr><tr><td>2</td><td><div class=\"dni-plaintext\"><pre>3</pre></div></td></tr><tr><td>3</td><td><div class=\"dni-plaintext\"><pre>4</pre></div></td></tr><tr><td>4</td><td><div class=\"dni-plaintext\"><pre>3</pre></div></td></tr><tr><td>5</td><td><div class=\"dni-plaintext\"><pre>4</pre></div></td></tr><tr><td>6</td><td><div class=\"dni-plaintext\"><pre>5</pre></div></td></tr><tr><td>7</td><td><div class=\"dni-plaintext\"><pre>5</pre></div></td></tr><tr><td>8</td><td><div class=\"dni-plaintext\"><pre>6</pre></div></td></tr><tr><td>9</td><td><div class=\"dni-plaintext\"><pre>7</pre></div></td></tr></tbody></table><style>\r\n",
       ".dni-code-hint {\r\n",
       "    font-style: italic;\r\n",
       "    overflow: hidden;\r\n",
       "    white-space: nowrap;\r\n",
       "}\r\n",
       ".dni-treeview {\r\n",
       "    white-space: nowrap;\r\n",
       "}\r\n",
       ".dni-treeview td {\r\n",
       "    vertical-align: top;\r\n",
       "    text-align: start;\r\n",
       "}\r\n",
       "details.dni-treeview {\r\n",
       "    padding-left: 1em;\r\n",
       "}\r\n",
       "table td {\r\n",
       "    text-align: start;\r\n",
       "}\r\n",
       "table tr { \r\n",
       "    vertical-align: top; \r\n",
       "    margin: 0em 0px;\r\n",
       "}\r\n",
       "table tr td pre \r\n",
       "{ \r\n",
       "    vertical-align: top !important; \r\n",
       "    margin: 0em 0px !important;\r\n",
       "} \r\n",
       "table th {\r\n",
       "    text-align: start;\r\n",
       "}\r\n",
       "</style>"
      ]
     },
     "metadata": {},
     "output_type": "display_data"
    }
   ],
   "source": [
    "solveUsingCompression 10 [\n",
    "  1, 3\n",
    "  3, 5\n",
    "  5, 7\n",
    "  7, 9\n",
    "  2, 4\n",
    "  4, 6\n",
    "  6, 8\n",
    "  3, 5\n",
    "  5, 7\n",
    "  4, 6\n",
    "]"
   ]
  },
  {
   "cell_type": "code",
   "execution_count": 7,
   "metadata": {
    "dotnet_interactive": {
     "language": "fsharp"
    },
    "polyglot_notebook": {
     "kernelName": "fsharp"
    },
    "vscode": {
     "languageId": "polyglot-notebook"
    }
   },
   "outputs": [
    {
     "data": {
      "text/html": [
       "<table><thead><tr><th><i>index</i></th><th>value</th></tr></thead><tbody><tr><td>0</td><td><div class=\"dni-plaintext\"><pre>1</pre></div></td></tr><tr><td>1</td><td><div class=\"dni-plaintext\"><pre>2</pre></div></td></tr><tr><td>2</td><td><div class=\"dni-plaintext\"><pre>3</pre></div></td></tr><tr><td>3</td><td><div class=\"dni-plaintext\"><pre>4</pre></div></td></tr><tr><td>4</td><td><div class=\"dni-plaintext\"><pre>5</pre></div></td></tr><tr><td>5</td><td><div class=\"dni-plaintext\"><pre>6</pre></div></td></tr><tr><td>6</td><td><div class=\"dni-plaintext\"><pre>7</pre></div></td></tr></tbody></table><style>\r\n",
       ".dni-code-hint {\r\n",
       "    font-style: italic;\r\n",
       "    overflow: hidden;\r\n",
       "    white-space: nowrap;\r\n",
       "}\r\n",
       ".dni-treeview {\r\n",
       "    white-space: nowrap;\r\n",
       "}\r\n",
       ".dni-treeview td {\r\n",
       "    vertical-align: top;\r\n",
       "    text-align: start;\r\n",
       "}\r\n",
       "details.dni-treeview {\r\n",
       "    padding-left: 1em;\r\n",
       "}\r\n",
       "table td {\r\n",
       "    text-align: start;\r\n",
       "}\r\n",
       "table tr { \r\n",
       "    vertical-align: top; \r\n",
       "    margin: 0em 0px;\r\n",
       "}\r\n",
       "table tr td pre \r\n",
       "{ \r\n",
       "    vertical-align: top !important; \r\n",
       "    margin: 0em 0px !important;\r\n",
       "} \r\n",
       "table th {\r\n",
       "    text-align: start;\r\n",
       "}\r\n",
       "</style>"
      ]
     },
     "metadata": {},
     "output_type": "display_data"
    }
   ],
   "source": [
    "solveUsingCompression 500000 [\n",
    "  1, 500000\n",
    "  500000, 500000\n",
    "  1, 500000\n",
    "  1, 1\n",
    "  1, 500000\n",
    "  500000, 500000\n",
    "  1, 500000\n",
    "]"
   ]
  },
  {
   "cell_type": "code",
   "execution_count": 8,
   "metadata": {
    "dotnet_interactive": {
     "language": "fsharp"
    },
    "polyglot_notebook": {
     "kernelName": "fsharp"
    },
    "vscode": {
     "languageId": "polyglot-notebook"
    }
   },
   "outputs": [],
   "source": [
    "/// 遅延評価セグメント木\n",
    "/// count: データ数\n",
    "/// et: データの単位元\n",
    "/// ft: データに対する演算\n",
    "/// em: 中間データの単位元\n",
    "/// fm: 中間データに対する演算\n",
    "/// ftm: データと中間データに対する演算\n",
    "type LazySegmentTree<'T, 'M when 'T: equality and 'M: equality>(\n",
    "  count: int,\n",
    "  et: 'T,\n",
    "  ft: ('T -> 'T -> 'T),\n",
    "  em: 'M,\n",
    "  fm: 'M -> 'M -> 'M,\n",
    "  ftm: ('T -> 'M -> 'T)\n",
    ") =\n",
    "  let leafCount = Seq.initInfinite (pown 2) |> Seq.find (flip (>=) count)\n",
    "  let nodeCount = leafCount * 2 + 1\n",
    "  let nodes = Array.create nodeCount et\n",
    "  let lazyNodes = Array.create nodeCount em\n",
    "  let leftChildIndex i = 2 * i + 1\n",
    "  let rightChildIndex i = 2 * i + 2\n",
    "  let parentIndex i = (i - 1) / 2\n",
    "  let leafIndex i = i + leafCount - 1\n",
    "  let eval i =\n",
    "    if lazyNodes[i] = em then () else\n",
    "    if i < leafCount - 1 then\n",
    "      lazyNodes[leftChildIndex i] <- fm lazyNodes[leftChildIndex i] lazyNodes[i]\n",
    "      lazyNodes[rightChildIndex i] <- fm lazyNodes[rightChildIndex i] lazyNodes[i]\n",
    "    nodes[i] <- ftm nodes[i] lazyNodes[i]\n",
    "    lazyNodes[i] <- em\n",
    "  let rec update a b x k l r =\n",
    "    eval k\n",
    "    if a <= l && r <= b then\n",
    "      lazyNodes[k] <- fm lazyNodes[k] x\n",
    "      eval k\n",
    "    elif a < r && l < b then\n",
    "      update a b x (leftChildIndex k) l ((l + r) / 2)\n",
    "      update a b x (rightChildIndex k) ((l + r) / 2) r\n",
    "      nodes[k] <- ft nodes[leftChildIndex k] nodes[rightChildIndex k]\n",
    "  let rec query a b k l r =\n",
    "    eval k\n",
    "    if r <= a || b <= l then et\n",
    "    elif a <= l && r <= b then nodes[k] else\n",
    "    let vl = query a b (leftChildIndex k) l ((l + r) / 2)\n",
    "    let vr = query a b (rightChildIndex k) ((l + r) / 2) r\n",
    "    ft vl vr\n",
    "  new(values: 'T list, et, ft, em, fm, ftm) as this =\n",
    "    LazySegmentTree(length values, et, ft, em, fm, ftm)\n",
    "    then this.Set values\n",
    "  member private _.Set values =\n",
    "    values |> List.iteri (fun i v -> nodes[leafIndex i] <- v)\n",
    "    for i = leafCount - 2 downto 0 do nodes[i] <- ft nodes[leftChildIndex i] nodes[rightChildIndex i]\n",
    "  member _.Count = count\n",
    "  member _.Update a b x = update a b x 0 0 leafCount\n",
    "  member _.Query a b = query a b 0 0 leafCount"
   ]
  },
  {
   "cell_type": "code",
   "execution_count": 10,
   "metadata": {
    "dotnet_interactive": {
     "language": "fsharp"
    },
    "polyglot_notebook": {
     "kernelName": "fsharp"
    },
    "vscode": {
     "languageId": "polyglot-notebook"
    }
   },
   "outputs": [],
   "source": [
    "let solveUsingSegmentTree W Ns =\n",
    "  let Ns = Ns |> Seq.toList\n",
    "  let positionDict = Ns |> Seq.collect (fun (l, r) -> [l; r]) |> Seq.distinct |> Seq.sort |> Seq.mapi (fun i x -> x, i) |> dict\n",
    "  let segmentTree = LazySegmentTree(positionDict.Count, 0, max, 0, (fun _ m -> m), (fun _ m -> m))\n",
    "  Ns |> List.map (fun (l, r) ->\n",
    "    let li, ri = positionDict[l], positionDict[r] + 1\n",
    "    let height = segmentTree.Query li ri + 1\n",
    "    segmentTree.Update li ri height\n",
    "    height)"
   ]
  },
  {
   "cell_type": "code",
   "execution_count": 11,
   "metadata": {
    "dotnet_interactive": {
     "language": "fsharp"
    },
    "polyglot_notebook": {
     "kernelName": "fsharp"
    },
    "vscode": {
     "languageId": "polyglot-notebook"
    }
   },
   "outputs": [
    {
     "data": {
      "text/html": [
       "<table><thead><tr><th><i>index</i></th><th>value</th></tr></thead><tbody><tr><td>0</td><td><div class=\"dni-plaintext\"><pre>1</pre></div></td></tr><tr><td>1</td><td><div class=\"dni-plaintext\"><pre>2</pre></div></td></tr><tr><td>2</td><td><div class=\"dni-plaintext\"><pre>2</pre></div></td></tr><tr><td>3</td><td><div class=\"dni-plaintext\"><pre>3</pre></div></td></tr></tbody></table><style>\r\n",
       ".dni-code-hint {\r\n",
       "    font-style: italic;\r\n",
       "    overflow: hidden;\r\n",
       "    white-space: nowrap;\r\n",
       "}\r\n",
       ".dni-treeview {\r\n",
       "    white-space: nowrap;\r\n",
       "}\r\n",
       ".dni-treeview td {\r\n",
       "    vertical-align: top;\r\n",
       "    text-align: start;\r\n",
       "}\r\n",
       "details.dni-treeview {\r\n",
       "    padding-left: 1em;\r\n",
       "}\r\n",
       "table td {\r\n",
       "    text-align: start;\r\n",
       "}\r\n",
       "table tr { \r\n",
       "    vertical-align: top; \r\n",
       "    margin: 0em 0px;\r\n",
       "}\r\n",
       "table tr td pre \r\n",
       "{ \r\n",
       "    vertical-align: top !important; \r\n",
       "    margin: 0em 0px !important;\r\n",
       "} \r\n",
       "table th {\r\n",
       "    text-align: start;\r\n",
       "}\r\n",
       "</style>"
      ]
     },
     "metadata": {},
     "output_type": "display_data"
    }
   ],
   "source": [
    "solveUsingSegmentTree 100 [\n",
    "  27, 100\n",
    "  8, 39\n",
    "  83, 97\n",
    "  24, 75\n",
    "]"
   ]
  },
  {
   "cell_type": "code",
   "execution_count": 12,
   "metadata": {
    "dotnet_interactive": {
     "language": "fsharp"
    },
    "polyglot_notebook": {
     "kernelName": "fsharp"
    },
    "vscode": {
     "languageId": "polyglot-notebook"
    }
   },
   "outputs": [
    {
     "data": {
      "text/html": [
       "<table><thead><tr><th><i>index</i></th><th>value</th></tr></thead><tbody><tr><td>0</td><td><div class=\"dni-plaintext\"><pre>1</pre></div></td></tr><tr><td>1</td><td><div class=\"dni-plaintext\"><pre>2</pre></div></td></tr><tr><td>2</td><td><div class=\"dni-plaintext\"><pre>3</pre></div></td></tr><tr><td>3</td><td><div class=\"dni-plaintext\"><pre>4</pre></div></td></tr><tr><td>4</td><td><div class=\"dni-plaintext\"><pre>4</pre></div></td></tr></tbody></table><style>\r\n",
       ".dni-code-hint {\r\n",
       "    font-style: italic;\r\n",
       "    overflow: hidden;\r\n",
       "    white-space: nowrap;\r\n",
       "}\r\n",
       ".dni-treeview {\r\n",
       "    white-space: nowrap;\r\n",
       "}\r\n",
       ".dni-treeview td {\r\n",
       "    vertical-align: top;\r\n",
       "    text-align: start;\r\n",
       "}\r\n",
       "details.dni-treeview {\r\n",
       "    padding-left: 1em;\r\n",
       "}\r\n",
       "table td {\r\n",
       "    text-align: start;\r\n",
       "}\r\n",
       "table tr { \r\n",
       "    vertical-align: top; \r\n",
       "    margin: 0em 0px;\r\n",
       "}\r\n",
       "table tr td pre \r\n",
       "{ \r\n",
       "    vertical-align: top !important; \r\n",
       "    margin: 0em 0px !important;\r\n",
       "} \r\n",
       "table th {\r\n",
       "    text-align: start;\r\n",
       "}\r\n",
       "</style>"
      ]
     },
     "metadata": {},
     "output_type": "display_data"
    }
   ],
   "source": [
    "solveUsingSegmentTree 3 [\n",
    "  1, 2\n",
    "  2, 2\n",
    "  2, 3\n",
    "  3, 3\n",
    "  1, 2\n",
    "]"
   ]
  },
  {
   "cell_type": "code",
   "execution_count": 13,
   "metadata": {
    "dotnet_interactive": {
     "language": "fsharp"
    },
    "polyglot_notebook": {
     "kernelName": "fsharp"
    },
    "vscode": {
     "languageId": "polyglot-notebook"
    }
   },
   "outputs": [
    {
     "data": {
      "text/html": [
       "<table><thead><tr><th><i>index</i></th><th>value</th></tr></thead><tbody><tr><td>0</td><td><div class=\"dni-plaintext\"><pre>1</pre></div></td></tr><tr><td>1</td><td><div class=\"dni-plaintext\"><pre>2</pre></div></td></tr><tr><td>2</td><td><div class=\"dni-plaintext\"><pre>3</pre></div></td></tr><tr><td>3</td><td><div class=\"dni-plaintext\"><pre>4</pre></div></td></tr><tr><td>4</td><td><div class=\"dni-plaintext\"><pre>3</pre></div></td></tr><tr><td>5</td><td><div class=\"dni-plaintext\"><pre>4</pre></div></td></tr><tr><td>6</td><td><div class=\"dni-plaintext\"><pre>5</pre></div></td></tr><tr><td>7</td><td><div class=\"dni-plaintext\"><pre>5</pre></div></td></tr><tr><td>8</td><td><div class=\"dni-plaintext\"><pre>6</pre></div></td></tr><tr><td>9</td><td><div class=\"dni-plaintext\"><pre>7</pre></div></td></tr></tbody></table><style>\r\n",
       ".dni-code-hint {\r\n",
       "    font-style: italic;\r\n",
       "    overflow: hidden;\r\n",
       "    white-space: nowrap;\r\n",
       "}\r\n",
       ".dni-treeview {\r\n",
       "    white-space: nowrap;\r\n",
       "}\r\n",
       ".dni-treeview td {\r\n",
       "    vertical-align: top;\r\n",
       "    text-align: start;\r\n",
       "}\r\n",
       "details.dni-treeview {\r\n",
       "    padding-left: 1em;\r\n",
       "}\r\n",
       "table td {\r\n",
       "    text-align: start;\r\n",
       "}\r\n",
       "table tr { \r\n",
       "    vertical-align: top; \r\n",
       "    margin: 0em 0px;\r\n",
       "}\r\n",
       "table tr td pre \r\n",
       "{ \r\n",
       "    vertical-align: top !important; \r\n",
       "    margin: 0em 0px !important;\r\n",
       "} \r\n",
       "table th {\r\n",
       "    text-align: start;\r\n",
       "}\r\n",
       "</style>"
      ]
     },
     "metadata": {},
     "output_type": "display_data"
    }
   ],
   "source": [
    "solveUsingSegmentTree 10 [\n",
    "  1, 3\n",
    "  3, 5\n",
    "  5, 7\n",
    "  7, 9\n",
    "  2, 4\n",
    "  4, 6\n",
    "  6, 8\n",
    "  3, 5\n",
    "  5, 7\n",
    "  4, 6\n",
    "]"
   ]
  },
  {
   "cell_type": "code",
   "execution_count": 14,
   "metadata": {
    "dotnet_interactive": {
     "language": "fsharp"
    },
    "polyglot_notebook": {
     "kernelName": "fsharp"
    },
    "vscode": {
     "languageId": "polyglot-notebook"
    }
   },
   "outputs": [
    {
     "data": {
      "text/html": [
       "<table><thead><tr><th><i>index</i></th><th>value</th></tr></thead><tbody><tr><td>0</td><td><div class=\"dni-plaintext\"><pre>1</pre></div></td></tr><tr><td>1</td><td><div class=\"dni-plaintext\"><pre>2</pre></div></td></tr><tr><td>2</td><td><div class=\"dni-plaintext\"><pre>3</pre></div></td></tr><tr><td>3</td><td><div class=\"dni-plaintext\"><pre>4</pre></div></td></tr><tr><td>4</td><td><div class=\"dni-plaintext\"><pre>5</pre></div></td></tr><tr><td>5</td><td><div class=\"dni-plaintext\"><pre>6</pre></div></td></tr><tr><td>6</td><td><div class=\"dni-plaintext\"><pre>7</pre></div></td></tr></tbody></table><style>\r\n",
       ".dni-code-hint {\r\n",
       "    font-style: italic;\r\n",
       "    overflow: hidden;\r\n",
       "    white-space: nowrap;\r\n",
       "}\r\n",
       ".dni-treeview {\r\n",
       "    white-space: nowrap;\r\n",
       "}\r\n",
       ".dni-treeview td {\r\n",
       "    vertical-align: top;\r\n",
       "    text-align: start;\r\n",
       "}\r\n",
       "details.dni-treeview {\r\n",
       "    padding-left: 1em;\r\n",
       "}\r\n",
       "table td {\r\n",
       "    text-align: start;\r\n",
       "}\r\n",
       "table tr { \r\n",
       "    vertical-align: top; \r\n",
       "    margin: 0em 0px;\r\n",
       "}\r\n",
       "table tr td pre \r\n",
       "{ \r\n",
       "    vertical-align: top !important; \r\n",
       "    margin: 0em 0px !important;\r\n",
       "} \r\n",
       "table th {\r\n",
       "    text-align: start;\r\n",
       "}\r\n",
       "</style>"
      ]
     },
     "metadata": {},
     "output_type": "display_data"
    }
   ],
   "source": [
    "solveUsingSegmentTree 500000 [\n",
    "  1, 500000\n",
    "  500000, 500000\n",
    "  1, 500000\n",
    "  1, 1\n",
    "  1, 500000\n",
    "  500000, 500000\n",
    "  1, 500000\n",
    "]"
   ]
  },
  {
   "cell_type": "code",
   "execution_count": null,
   "metadata": {
    "dotnet_interactive": {
     "language": "fsharp"
    },
    "polyglot_notebook": {
     "kernelName": "fsharp"
    },
    "vscode": {
     "languageId": "polyglot-notebook"
    }
   },
   "outputs": [],
   "source": []
  }
 ],
 "metadata": {
  "kernelspec": {
   "display_name": ".NET (F#)",
   "language": "F#",
   "name": ".net-fsharp"
  },
  "polyglot_notebook": {
   "kernelInfo": {
    "defaultKernelName": "fsharp",
    "items": [
     {
      "aliases": [
       "f#",
       "F#"
      ],
      "languageName": "F#",
      "name": "fsharp"
     },
     {
      "aliases": [
       "frontend"
      ],
      "name": "vscode"
     },
     {
      "aliases": [],
      "name": ".NET"
     },
     {
      "aliases": [
       "c#",
       "C#"
      ],
      "languageName": "C#",
      "name": "csharp"
     },
     {
      "aliases": [],
      "languageName": "HTML",
      "name": "html"
     },
     {
      "aliases": [],
      "languageName": "HTTP",
      "name": "http"
     },
     {
      "aliases": [],
      "languageName": "KQL",
      "name": "kql"
     },
     {
      "aliases": [],
      "languageName": "Mermaid",
      "name": "mermaid"
     },
     {
      "aliases": [
       "powershell"
      ],
      "languageName": "PowerShell",
      "name": "pwsh"
     },
     {
      "aliases": [],
      "languageName": "SQL",
      "name": "sql"
     },
     {
      "aliases": [],
      "name": "value"
     },
     {
      "aliases": [
       "js"
      ],
      "languageName": "JavaScript",
      "name": "javascript"
     },
     {
      "aliases": [],
      "name": "webview"
     }
    ]
   }
  }
 },
 "nbformat": 4,
 "nbformat_minor": 2
}
