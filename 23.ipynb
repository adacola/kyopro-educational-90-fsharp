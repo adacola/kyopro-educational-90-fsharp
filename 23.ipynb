{
 "cells": [
  {
   "attachments": {},
   "cell_type": "markdown",
   "metadata": {
    "dotnet_interactive": {
     "language": "fsharp"
    },
    "polyglot_notebook": {
     "kernelName": "fsharp"
    }
   },
   "source": [
    "## 問題\n",
    "\n",
    "https://twitter.com/e869120/status/1385725481920520193\n",
    "\n",
    "## 解説\n",
    "\n",
    "https://twitter.com/e869120/status/1386138990361726978"
   ]
  },
  {
   "cell_type": "code",
   "execution_count": 2,
   "metadata": {
    "dotnet_interactive": {
     "language": "fsharp"
    },
    "polyglot_notebook": {
     "kernelName": "fsharp"
    },
    "vscode": {
     "languageId": "polyglot-notebook"
    }
   },
   "outputs": [
    {
     "data": {
      "text/html": [
       "<div><div></div><div></div><div><strong>Installed Packages</strong><ul><li><span>FSharpPlus, 1.3.2</span></li></ul></div></div>"
      ]
     },
     "metadata": {},
     "output_type": "display_data"
    }
   ],
   "source": [
    "#r \"nuget: FSharpPlus\""
   ]
  },
  {
   "cell_type": "code",
   "execution_count": 3,
   "metadata": {
    "dotnet_interactive": {
     "language": "fsharp"
    },
    "polyglot_notebook": {
     "kernelName": "fsharp"
    },
    "vscode": {
     "languageId": "polyglot-notebook"
    }
   },
   "outputs": [],
   "source": [
    "open System\n",
    "open System.Numerics\n",
    "open System.Collections.Generic\n",
    "open FSharpPlus"
   ]
  },
  {
   "cell_type": "code",
   "execution_count": 167,
   "metadata": {
    "dotnet_interactive": {
     "language": "fsharp"
    },
    "polyglot_notebook": {
     "kernelName": "fsharp"
    },
    "vscode": {
     "languageId": "polyglot-notebook"
    }
   },
   "outputs": [],
   "source": [
    "let [<Literal>] Mod = 1_000_000_007"
   ]
  },
  {
   "cell_type": "code",
   "execution_count": 168,
   "metadata": {
    "dotnet_interactive": {
     "language": "fsharp"
    },
    "polyglot_notebook": {
     "kernelName": "fsharp"
    },
    "vscode": {
     "languageId": "polyglot-notebook"
    }
   },
   "outputs": [],
   "source": [
    "let canPut height width (used: (int * int) -> bool) (x, y) =\n",
    "  seq {\n",
    "    for x' in x - 1 .. x + 1 do\n",
    "      if 0 <= x' && x' < width then\n",
    "        for y' in y - 1 .. y + 1 do\n",
    "          // y' < height の条件を入れると動的計画法の最後の行で判定がおかしくなるので条件に含めない\n",
    "          if 0 <= y' then yield used (x', y')\n",
    "  } |> Seq.forall not\n",
    "let canPutWithSet height width used (x, y) = canPut height width (fun xy -> used |> Set.contains xy) (x, y)\n",
    "let canPutWithArray (used: bool[,]) (x, y) = canPut (Array2D.length1 used) (Array2D.length2 used) (fun (x, y) -> used[y, x]) (x, y)"
   ]
  },
  {
   "cell_type": "code",
   "execution_count": 177,
   "metadata": {
    "dotnet_interactive": {
     "language": "fsharp"
    },
    "polyglot_notebook": {
     "kernelName": "fsharp"
    },
    "vscode": {
     "languageId": "polyglot-notebook"
    }
   },
   "outputs": [],
   "source": [
    "let calcNextIndexes height width =\n",
    "  // 置き方として実際にありえるパターンを洗い出し\n",
    "  let dpIndexLists = Array.init width (fun _ -> ResizeArray<int>())\n",
    "  let indexMaps = Array.init width (fun _ -> Dictionary<int, int * bool>())\n",
    "  let rec loop position depth (dpIndex: int) used =\n",
    "    let x, y = position % width, position / width\n",
    "    let canPut = canPutWithSet height width used (x, y)\n",
    "    if depth = width + 1 then\n",
    "      let index = dpIndexLists[x].Count\n",
    "      dpIndexLists[x].Add(dpIndex)\n",
    "      indexMaps[x].Add(dpIndex, (index, canPut))\n",
    "    else\n",
    "      loop (position + 1) (depth + 1) dpIndex used\n",
    "      if canPut then\n",
    "        used |> Set.add (x, y) |> loop (position + 1) (depth + 1) (dpIndex + (1 <<< depth))\n",
    "  for position = 0 to width - 1 do loop position 0 0 Set.empty\n",
    "  let getIndexAndCanPut index key = indexMaps[index].TryGetValue(key) |> Option.ofPair |> Option.defaultValue (0, false)\n",
    "\n",
    "  // 実際にありえる置き方に対応するインデックスを計算\n",
    "  Array.init width (fun i ->\n",
    "    dpIndexLists[i] |> Seq.map (fun dpIndex ->\n",
    "      let dpIndexNoPut = dpIndex >>> 1\n",
    "      let dpIndexPut = dpIndexNoPut + (1 <<< width)\n",
    "      let index = (i + 1) % width\n",
    "      let nextIndexNoPut = getIndexAndCanPut index dpIndexNoPut |> fst\n",
    "      let nextIndexPut = if getIndexAndCanPut i dpIndex |> snd then getIndexAndCanPut index dpIndexPut |> fst |> Some else None\n",
    "      nextIndexNoPut, nextIndexPut)\n",
    "    |> Seq.toArray)"
   ]
  },
  {
   "cell_type": "code",
   "execution_count": 178,
   "metadata": {
    "dotnet_interactive": {
     "language": "fsharp"
    },
    "polyglot_notebook": {
     "kernelName": "fsharp"
    },
    "vscode": {
     "languageId": "polyglot-notebook"
    }
   },
   "outputs": [],
   "source": [
    "/// 動的計画法でパターンを求める\n",
    "let calcDP (Cs: string[]) =\n",
    "  let height = Cs.Length\n",
    "  let width = Cs[0].Length\n",
    "  let field = Array2D.init height width (fun i j -> Cs[i][j] = '.')\n",
    "  let nextIndexArrays = calcNextIndexes height width\n",
    "  // 列ごとにありえるパターン数は求めてあるのでその分だけの配列を確保\n",
    "  let dp = Array2D.init (height + 1) width (fun _ j -> Array.zeroCreate<int> nextIndexArrays[j].Length)\n",
    "  dp[0, 0][0] <- 1\n",
    "  for i = 0 to height - 1 do\n",
    "    for j = 0 to width - 1 do\n",
    "      let ni, nj = if j + 1 = width then i + 1, 0 else i, j + 1\n",
    "      nextIndexArrays[j] |> Array.iteri (fun k (nextIndexNoPut, nextIndexPut) ->\n",
    "        if dp[i, j][k] <> 0 then\n",
    "          dp[ni, nj][nextIndexNoPut] <- (dp[ni, nj][nextIndexNoPut] + dp[i, j][k]) % Mod\n",
    "          match nextIndexPut, field[i, j] with\n",
    "          | Some index, true -> dp[ni, nj][index] <- (dp[ni, nj][index] + dp[i, j][k]) % Mod\n",
    "          | None, _ | _, false -> ())\n",
    "  dp"
   ]
  },
  {
   "cell_type": "code",
   "execution_count": 179,
   "metadata": {
    "dotnet_interactive": {
     "language": "fsharp"
    },
    "polyglot_notebook": {
     "kernelName": "fsharp"
    },
    "vscode": {
     "languageId": "polyglot-notebook"
    }
   },
   "outputs": [],
   "source": [
    "let solve Cs =\n",
    "  let Cs = Cs |> Seq.toArray\n",
    "  let height = Cs.Length\n",
    "  let dp = calcDP Cs\n",
    "  (0, dp[height, 0]) ||> Seq.fold (fun result count -> (result + count) % Mod)"
   ]
  },
  {
   "cell_type": "code",
   "execution_count": 180,
   "metadata": {
    "dotnet_interactive": {
     "language": "fsharp"
    },
    "polyglot_notebook": {
     "kernelName": "fsharp"
    },
    "vscode": {
     "languageId": "polyglot-notebook"
    }
   },
   "outputs": [
    {
     "data": {
      "text/html": [
       "<div class=\"dni-plaintext\"><pre>5</pre></div><style>\r\n",
       ".dni-code-hint {\r\n",
       "    font-style: italic;\r\n",
       "    overflow: hidden;\r\n",
       "    white-space: nowrap;\r\n",
       "}\r\n",
       ".dni-treeview {\r\n",
       "    white-space: nowrap;\r\n",
       "}\r\n",
       ".dni-treeview td {\r\n",
       "    vertical-align: top;\r\n",
       "    text-align: start;\r\n",
       "}\r\n",
       "details.dni-treeview {\r\n",
       "    padding-left: 1em;\r\n",
       "}\r\n",
       "table td {\r\n",
       "    text-align: start;\r\n",
       "}\r\n",
       "table tr { \r\n",
       "    vertical-align: top; \r\n",
       "    margin: 0em 0px;\r\n",
       "}\r\n",
       "table tr td pre \r\n",
       "{ \r\n",
       "    vertical-align: top !important; \r\n",
       "    margin: 0em 0px !important;\r\n",
       "} \r\n",
       "table th {\r\n",
       "    text-align: start;\r\n",
       "}\r\n",
       "</style>"
      ]
     },
     "metadata": {},
     "output_type": "display_data"
    }
   ],
   "source": [
    "solve [\n",
    "  \"...\"\n",
    "]"
   ]
  },
  {
   "cell_type": "code",
   "execution_count": 181,
   "metadata": {
    "dotnet_interactive": {
     "language": "fsharp"
    },
    "polyglot_notebook": {
     "kernelName": "fsharp"
    },
    "vscode": {
     "languageId": "polyglot-notebook"
    }
   },
   "outputs": [
    {
     "data": {
      "text/html": [
       "<div class=\"dni-plaintext\"><pre>13</pre></div><style>\r\n",
       ".dni-code-hint {\r\n",
       "    font-style: italic;\r\n",
       "    overflow: hidden;\r\n",
       "    white-space: nowrap;\r\n",
       "}\r\n",
       ".dni-treeview {\r\n",
       "    white-space: nowrap;\r\n",
       "}\r\n",
       ".dni-treeview td {\r\n",
       "    vertical-align: top;\r\n",
       "    text-align: start;\r\n",
       "}\r\n",
       "details.dni-treeview {\r\n",
       "    padding-left: 1em;\r\n",
       "}\r\n",
       "table td {\r\n",
       "    text-align: start;\r\n",
       "}\r\n",
       "table tr { \r\n",
       "    vertical-align: top; \r\n",
       "    margin: 0em 0px;\r\n",
       "}\r\n",
       "table tr td pre \r\n",
       "{ \r\n",
       "    vertical-align: top !important; \r\n",
       "    margin: 0em 0px !important;\r\n",
       "} \r\n",
       "table th {\r\n",
       "    text-align: start;\r\n",
       "}\r\n",
       "</style>"
      ]
     },
     "metadata": {},
     "output_type": "display_data"
    }
   ],
   "source": [
    "solve [\n",
    "  \".#.\"\n",
    "  \"#..\"\n",
    "  \".##\"\n",
    "]"
   ]
  },
  {
   "cell_type": "code",
   "execution_count": 182,
   "metadata": {
    "dotnet_interactive": {
     "language": "fsharp"
    },
    "polyglot_notebook": {
     "kernelName": "fsharp"
    },
    "vscode": {
     "languageId": "polyglot-notebook"
    }
   },
   "outputs": [
    {
     "data": {
      "text/html": [
       "<div class=\"dni-plaintext\"><pre>273768</pre></div><style>\r\n",
       ".dni-code-hint {\r\n",
       "    font-style: italic;\r\n",
       "    overflow: hidden;\r\n",
       "    white-space: nowrap;\r\n",
       "}\r\n",
       ".dni-treeview {\r\n",
       "    white-space: nowrap;\r\n",
       "}\r\n",
       ".dni-treeview td {\r\n",
       "    vertical-align: top;\r\n",
       "    text-align: start;\r\n",
       "}\r\n",
       "details.dni-treeview {\r\n",
       "    padding-left: 1em;\r\n",
       "}\r\n",
       "table td {\r\n",
       "    text-align: start;\r\n",
       "}\r\n",
       "table tr { \r\n",
       "    vertical-align: top; \r\n",
       "    margin: 0em 0px;\r\n",
       "}\r\n",
       "table tr td pre \r\n",
       "{ \r\n",
       "    vertical-align: top !important; \r\n",
       "    margin: 0em 0px !important;\r\n",
       "} \r\n",
       "table th {\r\n",
       "    text-align: start;\r\n",
       "}\r\n",
       "</style>"
      ]
     },
     "metadata": {},
     "output_type": "display_data"
    }
   ],
   "source": [
    "solve [\n",
    "  \"######.##\"\n",
    "  \"####..##.\"\n",
    "  \"..#...#..\"\n",
    "  \"###...###\"\n",
    "  \"#....##.#\"\n",
    "  \".##......\"\n",
    "  \"#.####..#\"\n",
    "  \"#.#######\"\n",
    "]"
   ]
  },
  {
   "cell_type": "code",
   "execution_count": 183,
   "metadata": {
    "dotnet_interactive": {
     "language": "fsharp"
    },
    "polyglot_notebook": {
     "kernelName": "fsharp"
    },
    "vscode": {
     "languageId": "polyglot-notebook"
    }
   },
   "outputs": [
    {
     "data": {
      "text/html": [
       "<div class=\"dni-plaintext\"><pre>314465173</pre></div><style>\r\n",
       ".dni-code-hint {\r\n",
       "    font-style: italic;\r\n",
       "    overflow: hidden;\r\n",
       "    white-space: nowrap;\r\n",
       "}\r\n",
       ".dni-treeview {\r\n",
       "    white-space: nowrap;\r\n",
       "}\r\n",
       ".dni-treeview td {\r\n",
       "    vertical-align: top;\r\n",
       "    text-align: start;\r\n",
       "}\r\n",
       "details.dni-treeview {\r\n",
       "    padding-left: 1em;\r\n",
       "}\r\n",
       "table td {\r\n",
       "    text-align: start;\r\n",
       "}\r\n",
       "table tr { \r\n",
       "    vertical-align: top; \r\n",
       "    margin: 0em 0px;\r\n",
       "}\r\n",
       "table tr td pre \r\n",
       "{ \r\n",
       "    vertical-align: top !important; \r\n",
       "    margin: 0em 0px !important;\r\n",
       "} \r\n",
       "table th {\r\n",
       "    text-align: start;\r\n",
       "}\r\n",
       "</style>"
      ]
     },
     "metadata": {},
     "output_type": "display_data"
    }
   ],
   "source": [
    "solve [\n",
    "  \".####...#.....#.#\"\n",
    "  \".#....#.#####...#\"\n",
    "  \"#...##.##...#..##\"\n",
    "  \"..#..####..#...##\"\n",
    "  \".#..#..#.#.##...#\"\n",
    "  \".#.#.#...#.##..#.\"\n",
    "  \"#...#..#..##..###\"\n",
    "  \"###.#..###..###..\"\n",
    "  \"...#.##.##.#....#\"\n",
    "  \"..####....#.#...#\"\n",
    "  \".##...##.#.#...#.\"\n",
    "  \"..########...###.\"\n",
    "  \"#..##....#.......\"\n",
    "  \"##.##..###.#.##..\"\n",
    "  \".##....#........#\"\n",
    "  \"....#####..##.#..\"\n",
    "  \".###...##..##.#..\"\n",
    "]"
   ]
  },
  {
   "cell_type": "code",
   "execution_count": 184,
   "metadata": {
    "dotnet_interactive": {
     "language": "fsharp"
    },
    "polyglot_notebook": {
     "kernelName": "fsharp"
    },
    "vscode": {
     "languageId": "polyglot-notebook"
    }
   },
   "outputs": [
    {
     "data": {
      "text/html": [
       "<div class=\"dni-plaintext\"><pre>47296634</pre></div><style>\r\n",
       ".dni-code-hint {\r\n",
       "    font-style: italic;\r\n",
       "    overflow: hidden;\r\n",
       "    white-space: nowrap;\r\n",
       "}\r\n",
       ".dni-treeview {\r\n",
       "    white-space: nowrap;\r\n",
       "}\r\n",
       ".dni-treeview td {\r\n",
       "    vertical-align: top;\r\n",
       "    text-align: start;\r\n",
       "}\r\n",
       "details.dni-treeview {\r\n",
       "    padding-left: 1em;\r\n",
       "}\r\n",
       "table td {\r\n",
       "    text-align: start;\r\n",
       "}\r\n",
       "table tr { \r\n",
       "    vertical-align: top; \r\n",
       "    margin: 0em 0px;\r\n",
       "}\r\n",
       "table tr td pre \r\n",
       "{ \r\n",
       "    vertical-align: top !important; \r\n",
       "    margin: 0em 0px !important;\r\n",
       "} \r\n",
       "table th {\r\n",
       "    text-align: start;\r\n",
       "}\r\n",
       "</style>"
      ]
     },
     "metadata": {},
     "output_type": "display_data"
    }
   ],
   "source": [
    "solve [\n",
    "  \".##.##.#.#.#...##.\"\n",
    "  \"####.#..###.#.#..#\"\n",
    "  \"#####.##...##.###.\"\n",
    "  \"...#.#.#.##.##.###\"\n",
    "  \"..#.##.#.#....#...\"\n",
    "  \"#.###.##....###..#\"\n",
    "  \"....#####...#...#.\"\n",
    "  \".#..##..#..###....\"\n",
    "  \"....#..##.#.#..#.#\"\n",
    "  \"###.#.....#..##.#.\"\n",
    "  \"#..#..#.#.##..###.\"\n",
    "  \"#...#....##..###..\"\n",
    "  \"..#...#..###..##..\"\n",
    "  \".#....#.#.#..###.#\"\n",
    "  \"##.#.#..#..###..##\"\n",
    "  \"....###.##.##.##..\"\n",
    "  \"#...####.#.#..##..\"\n",
    "  \"..#.###.###.###.##\"\n",
    "  \"#...##.#.#.#...#.#\"\n",
    "  \"#..###..########..\"\n",
    "  \"#.##.#####.#..#.##\"\n",
    "  \"#..#........#...#.\"\n",
    "]"
   ]
  },
  {
   "cell_type": "code",
   "execution_count": null,
   "metadata": {
    "dotnet_interactive": {
     "language": "fsharp"
    },
    "polyglot_notebook": {
     "kernelName": "fsharp"
    },
    "vscode": {
     "languageId": "polyglot-notebook"
    }
   },
   "outputs": [],
   "source": []
  }
 ],
 "metadata": {
  "kernelspec": {
   "display_name": ".NET (F#)",
   "language": "F#",
   "name": ".net-fsharp"
  },
  "polyglot_notebook": {
   "kernelInfo": {
    "defaultKernelName": "fsharp",
    "items": [
     {
      "aliases": [
       "f#",
       "F#"
      ],
      "languageName": "F#",
      "name": "fsharp"
     },
     {
      "aliases": [
       "frontend"
      ],
      "name": "vscode"
     },
     {
      "aliases": [],
      "name": ".NET"
     },
     {
      "aliases": [
       "c#",
       "C#"
      ],
      "languageName": "C#",
      "name": "csharp"
     },
     {
      "aliases": [],
      "languageName": "HTML",
      "name": "html"
     },
     {
      "aliases": [],
      "languageName": "HTTP",
      "name": "http"
     },
     {
      "aliases": [],
      "languageName": "KQL",
      "name": "kql"
     },
     {
      "aliases": [],
      "languageName": "Mermaid",
      "name": "mermaid"
     },
     {
      "aliases": [
       "powershell"
      ],
      "languageName": "PowerShell",
      "name": "pwsh"
     },
     {
      "aliases": [],
      "languageName": "SQL",
      "name": "sql"
     },
     {
      "aliases": [],
      "name": "value"
     },
     {
      "aliases": [
       "js"
      ],
      "languageName": "JavaScript",
      "name": "javascript"
     },
     {
      "aliases": [],
      "name": "webview"
     }
    ]
   }
  }
 },
 "nbformat": 4,
 "nbformat_minor": 2
}
