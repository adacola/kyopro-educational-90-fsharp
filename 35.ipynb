{
 "cells": [
  {
   "attachments": {},
   "cell_type": "markdown",
   "metadata": {
    "dotnet_interactive": {
     "language": "fsharp"
    },
    "polyglot_notebook": {
     "kernelName": "fsharp"
    }
   },
   "source": [
    "## 問題\n",
    "\n",
    "https://twitter.com/e869120/status/1390798852299448322\n",
    "\n",
    "## 解説\n",
    "\n",
    "https://twitter.com/e869120/status/1391218516129312768"
   ]
  },
  {
   "cell_type": "code",
   "execution_count": 2,
   "metadata": {
    "dotnet_interactive": {
     "language": "fsharp"
    },
    "polyglot_notebook": {
     "kernelName": "fsharp"
    },
    "vscode": {
     "languageId": "polyglot-notebook"
    }
   },
   "outputs": [
    {
     "data": {
      "text/html": [
       "<div><div></div><div></div><div><strong>Installed Packages</strong><ul><li><span>FSharpPlus, 1.3.2</span></li></ul></div></div>"
      ]
     },
     "metadata": {},
     "output_type": "display_data"
    }
   ],
   "source": [
    "#r \"nuget: FSharpPlus\""
   ]
  },
  {
   "cell_type": "code",
   "execution_count": 3,
   "metadata": {
    "dotnet_interactive": {
     "language": "fsharp"
    },
    "polyglot_notebook": {
     "kernelName": "fsharp"
    },
    "vscode": {
     "languageId": "polyglot-notebook"
    }
   },
   "outputs": [],
   "source": [
    "open System\n",
    "open System.Numerics\n",
    "open System.Collections.Generic\n",
    "open FSharpPlus"
   ]
  },
  {
   "cell_type": "code",
   "execution_count": 4,
   "metadata": {
    "dotnet_interactive": {
     "language": "fsharp"
    },
    "polyglot_notebook": {
     "kernelName": "fsharp"
    },
    "vscode": {
     "languageId": "polyglot-notebook"
    }
   },
   "outputs": [],
   "source": [
    "type Node = {\n",
    "  Id: int\n",
    "  Parent: int option\n",
    "  Children: int list\n",
    "  Depth: int\n",
    "}\n",
    "type Tree = {\n",
    "  NodeDict: IReadOnlyDictionary<int, Node>\n",
    "  Root: int\n",
    "  MaxDepth: int\n",
    "} with\n",
    "  member x.Count = x.NodeDict.Count"
   ]
  },
  {
   "cell_type": "code",
   "execution_count": 5,
   "metadata": {
    "dotnet_interactive": {
     "language": "fsharp"
    },
    "polyglot_notebook": {
     "kernelName": "fsharp"
    },
    "vscode": {
     "languageId": "polyglot-notebook"
    }
   },
   "outputs": [],
   "source": [
    "let getTree rootId (edges: (int * int) seq) =\n",
    "  let nodeDict = edges |> Seq.collect (fun (a, b) -> [a, b; b, a]) |> Seq.groupBy fst |> Seq.map (fun (k, vs) -> k, vs |> Seq.map snd |> Seq.toList) |> dict\n",
    "  let rec loop (result: Dictionary<int, Node>) depth = function\n",
    "    | [] -> { Root = rootId; NodeDict = result.AsReadOnly(); MaxDepth = depth - 1 }\n",
    "    | nodeIdParents ->\n",
    "      let nodes =\n",
    "        nodeIdParents |> List.distinct |> List.map (fun (nodeId, parent) ->\n",
    "          let children = nodeDict[nodeId] |> filter (fun n -> result.ContainsKey(n) |> not)\n",
    "          { Id = nodeId; Parent = parent; Children = children; Depth = depth })\n",
    "      nodes |> iter (fun n -> result.Add(n.Id, n))\n",
    "      nodes |> List.collect (fun n -> n.Children |> map (fun c -> c, Some n.Id)) |> loop result (depth + 1)\n",
    "  loop (Dictionary()) 0 [rootId, None]"
   ]
  },
  {
   "cell_type": "code",
   "execution_count": 6,
   "metadata": {
    "dotnet_interactive": {
     "language": "fsharp"
    },
    "polyglot_notebook": {
     "kernelName": "fsharp"
    },
    "vscode": {
     "languageId": "polyglot-notebook"
    }
   },
   "outputs": [],
   "source": [
    "let calcDoubling tree =\n",
    "  let len = Seq.initInfinite id |> Seq.skipWhile (fun i -> 0 < (tree.MaxDepth >>> i)) |> Seq.head\n",
    "  let dic = Dictionary<int * int, int>()\n",
    "  tree.NodeDict |> Seq.iter (fun (KeyValue(nodeId, node)) -> dic.Add((0, nodeId), node.Parent |> Option.defaultValue tree.Root))\n",
    "  for i = 1 to len - 1 do\n",
    "    tree.NodeDict.Keys |> Seq.iter (fun nodeId -> dic.Add((i, nodeId), dic[i - 1, dic[i - 1, nodeId]]))\n",
    "  dic.AsReadOnly(), len"
   ]
  },
  {
   "cell_type": "code",
   "execution_count": 7,
   "metadata": {
    "dotnet_interactive": {
     "language": "fsharp"
    },
    "polyglot_notebook": {
     "kernelName": "fsharp"
    },
    "vscode": {
     "languageId": "polyglot-notebook"
    }
   },
   "outputs": [],
   "source": [
    "let calcLowestCommonAncestor (doubling: IReadOnlyDictionary<int * int, int>) len tree x y =\n",
    "  let getAncestor generation nodeId =\n",
    "    let indexes = (generation, 0) |> Seq.unfold (function 0, _ -> None | g, e -> Some((if g &&& 1 = 0 then None else Some e), (g >>> 1, e + 1))) |> Seq.choose id |> Seq.toList |> List.rev\n",
    "    (nodeId, indexes) ||> List.fold (fun n i -> doubling[i, n])\n",
    "  let x, y =\n",
    "    let depthDiff = tree.NodeDict[x].Depth - tree.NodeDict[y].Depth\n",
    "    if depthDiff = 0 then x, y elif depthDiff < 0 then x, getAncestor (abs depthDiff) y else getAncestor depthDiff x, y\n",
    "  if x = y then x else\n",
    "  let px, _ =\n",
    "    ((x, y), seq { len - 1 .. -1 .. 0 }) ||> Seq.fold (fun (x, y) i ->\n",
    "      let px, py = doubling[i, x], doubling[i, y]\n",
    "      if px = py then x, y else px, py)\n",
    "  doubling[0, px]"
   ]
  },
  {
   "cell_type": "code",
   "execution_count": 8,
   "metadata": {
    "dotnet_interactive": {
     "language": "fsharp"
    },
    "polyglot_notebook": {
     "kernelName": "fsharp"
    },
    "vscode": {
     "languageId": "polyglot-notebook"
    }
   },
   "outputs": [],
   "source": [
    "let calcDistance doubling len tree x y =\n",
    "  tree.NodeDict[x].Depth + tree.NodeDict[y].Depth - 2 * tree.NodeDict[calcLowestCommonAncestor doubling len tree x y].Depth"
   ]
  },
  {
   "cell_type": "code",
   "execution_count": 9,
   "metadata": {
    "dotnet_interactive": {
     "language": "fsharp"
    },
    "polyglot_notebook": {
     "kernelName": "fsharp"
    },
    "vscode": {
     "languageId": "polyglot-notebook"
    }
   },
   "outputs": [],
   "source": [
    "let solve ABs (Qs: int seq seq) =\n",
    "  let tree = getTree 1 ABs\n",
    "  let doubling, len = calcDoubling tree\n",
    "  let nodeIndexDict =\n",
    "    let rec dfs index nodeId =\n",
    "      let results, maxIndex =\n",
    "        (([], index + 1), tree.NodeDict[nodeId].Children) ||> List.fold (fun (results, i) c ->\n",
    "          let rs, maxIndex = dfs i c\n",
    "          rs @ results, maxIndex + 1)\n",
    "      (nodeId, index)::results, max index maxIndex\n",
    "    dfs 0 tree.Root |> fst |> dict\n",
    "  Qs |> Seq.map (fun vs ->\n",
    "    let nodes = vs |> Seq.sortBy (fun q -> nodeIndexDict[q]) |> Seq.toList\n",
    "    nodes @ [head nodes] |> Seq.pairwise |> Seq.sumBy (uncurry (calcDistance doubling len tree)) |> flip (/) 2)\n",
    "  |> Seq.toList"
   ]
  },
  {
   "cell_type": "code",
   "execution_count": 10,
   "metadata": {
    "dotnet_interactive": {
     "language": "fsharp"
    },
    "polyglot_notebook": {
     "kernelName": "fsharp"
    },
    "vscode": {
     "languageId": "polyglot-notebook"
    }
   },
   "outputs": [
    {
     "data": {
      "text/html": [
       "<table><thead><tr><th><i>index</i></th><th>value</th></tr></thead><tbody><tr><td>0</td><td><div class=\"dni-plaintext\"><pre>1</pre></div></td></tr><tr><td>1</td><td><div class=\"dni-plaintext\"><pre>3</pre></div></td></tr><tr><td>2</td><td><div class=\"dni-plaintext\"><pre>4</pre></div></td></tr><tr><td>3</td><td><div class=\"dni-plaintext\"><pre>4</pre></div></td></tr><tr><td>4</td><td><div class=\"dni-plaintext\"><pre>5</pre></div></td></tr></tbody></table><style>\r\n",
       ".dni-code-hint {\r\n",
       "    font-style: italic;\r\n",
       "    overflow: hidden;\r\n",
       "    white-space: nowrap;\r\n",
       "}\r\n",
       ".dni-treeview {\r\n",
       "    white-space: nowrap;\r\n",
       "}\r\n",
       ".dni-treeview td {\r\n",
       "    vertical-align: top;\r\n",
       "    text-align: start;\r\n",
       "}\r\n",
       "details.dni-treeview {\r\n",
       "    padding-left: 1em;\r\n",
       "}\r\n",
       "table td {\r\n",
       "    text-align: start;\r\n",
       "}\r\n",
       "table tr { \r\n",
       "    vertical-align: top; \r\n",
       "    margin: 0em 0px;\r\n",
       "}\r\n",
       "table tr td pre \r\n",
       "{ \r\n",
       "    vertical-align: top !important; \r\n",
       "    margin: 0em 0px !important;\r\n",
       "} \r\n",
       "table th {\r\n",
       "    text-align: start;\r\n",
       "}\r\n",
       "</style>"
      ]
     },
     "metadata": {},
     "output_type": "display_data"
    }
   ],
   "source": [
    "solve\n",
    "  [\n",
    "    1, 2\n",
    "    2, 3\n",
    "    3, 4\n",
    "    1, 5\n",
    "    3, 6\n",
    "  ]\n",
    "  [\n",
    "    [1; 2]\n",
    "    [1; 3; 5]\n",
    "    [2; 3; 4; 5]\n",
    "    [1; 2; 3; 5; 6]\n",
    "    [1; 2; 3; 4; 5; 6]\n",
    "  ]"
   ]
  },
  {
   "cell_type": "code",
   "execution_count": 11,
   "metadata": {
    "dotnet_interactive": {
     "language": "fsharp"
    },
    "polyglot_notebook": {
     "kernelName": "fsharp"
    },
    "vscode": {
     "languageId": "polyglot-notebook"
    }
   },
   "outputs": [
    {
     "data": {
      "text/html": [
       "<table><thead><tr><th><i>index</i></th><th>value</th></tr></thead><tbody><tr><td>0</td><td><div class=\"dni-plaintext\"><pre>1</pre></div></td></tr><tr><td>1</td><td><div class=\"dni-plaintext\"><pre>1</pre></div></td></tr><tr><td>2</td><td><div class=\"dni-plaintext\"><pre>2</pre></div></td></tr><tr><td>3</td><td><div class=\"dni-plaintext\"><pre>1</pre></div></td></tr><tr><td>4</td><td><div class=\"dni-plaintext\"><pre>2</pre></div></td></tr></tbody></table><style>\r\n",
       ".dni-code-hint {\r\n",
       "    font-style: italic;\r\n",
       "    overflow: hidden;\r\n",
       "    white-space: nowrap;\r\n",
       "}\r\n",
       ".dni-treeview {\r\n",
       "    white-space: nowrap;\r\n",
       "}\r\n",
       ".dni-treeview td {\r\n",
       "    vertical-align: top;\r\n",
       "    text-align: start;\r\n",
       "}\r\n",
       "details.dni-treeview {\r\n",
       "    padding-left: 1em;\r\n",
       "}\r\n",
       "table td {\r\n",
       "    text-align: start;\r\n",
       "}\r\n",
       "table tr { \r\n",
       "    vertical-align: top; \r\n",
       "    margin: 0em 0px;\r\n",
       "}\r\n",
       "table tr td pre \r\n",
       "{ \r\n",
       "    vertical-align: top !important; \r\n",
       "    margin: 0em 0px !important;\r\n",
       "} \r\n",
       "table th {\r\n",
       "    text-align: start;\r\n",
       "}\r\n",
       "</style>"
      ]
     },
     "metadata": {},
     "output_type": "display_data"
    }
   ],
   "source": [
    "solve\n",
    "  [\n",
    "    1, 2\n",
    "    2, 3\n",
    "    3, 4\n",
    "    1, 5\n",
    "    3, 6\n",
    "  ]\n",
    "  [\n",
    "    [1; 2]\n",
    "    [3; 4]\n",
    "    [4; 6]\n",
    "    [1; 5]\n",
    "    [2; 5]\n",
    "  ]"
   ]
  },
  {
   "cell_type": "code",
   "execution_count": 14,
   "metadata": {
    "dotnet_interactive": {
     "language": "fsharp"
    },
    "polyglot_notebook": {
     "kernelName": "fsharp"
    },
    "vscode": {
     "languageId": "polyglot-notebook"
    }
   },
   "outputs": [
    {
     "data": {
      "text/html": [
       "<table><thead><tr><th><i>index</i></th><th>value</th></tr></thead><tbody><tr><td>0</td><td><div class=\"dni-plaintext\"><pre>2</pre></div></td></tr><tr><td>1</td><td><div class=\"dni-plaintext\"><pre>2</pre></div></td></tr><tr><td>2</td><td><div class=\"dni-plaintext\"><pre>3</pre></div></td></tr><tr><td>3</td><td><div class=\"dni-plaintext\"><pre>4</pre></div></td></tr><tr><td>4</td><td><div class=\"dni-plaintext\"><pre>5</pre></div></td></tr></tbody></table><style>\r\n",
       ".dni-code-hint {\r\n",
       "    font-style: italic;\r\n",
       "    overflow: hidden;\r\n",
       "    white-space: nowrap;\r\n",
       "}\r\n",
       ".dni-treeview {\r\n",
       "    white-space: nowrap;\r\n",
       "}\r\n",
       ".dni-treeview td {\r\n",
       "    vertical-align: top;\r\n",
       "    text-align: start;\r\n",
       "}\r\n",
       "details.dni-treeview {\r\n",
       "    padding-left: 1em;\r\n",
       "}\r\n",
       "table td {\r\n",
       "    text-align: start;\r\n",
       "}\r\n",
       "table tr { \r\n",
       "    vertical-align: top; \r\n",
       "    margin: 0em 0px;\r\n",
       "}\r\n",
       "table tr td pre \r\n",
       "{ \r\n",
       "    vertical-align: top !important; \r\n",
       "    margin: 0em 0px !important;\r\n",
       "} \r\n",
       "table th {\r\n",
       "    text-align: start;\r\n",
       "}\r\n",
       "</style>"
      ]
     },
     "metadata": {},
     "output_type": "display_data"
    }
   ],
   "source": [
    "solve\n",
    "  [\n",
    "    1, 2\n",
    "    2, 3\n",
    "    3, 4\n",
    "    1, 5\n",
    "    3, 6    \n",
    "  ]\n",
    "  [\n",
    "    [1; 2; 3]\n",
    "    [1; 2; 5]\n",
    "    [1; 3; 6]\n",
    "    [3; 4; 5]\n",
    "    [4; 5; 6]\n",
    "  ]"
   ]
  },
  {
   "cell_type": "code",
   "execution_count": null,
   "metadata": {
    "dotnet_interactive": {
     "language": "fsharp"
    },
    "polyglot_notebook": {
     "kernelName": "fsharp"
    },
    "vscode": {
     "languageId": "polyglot-notebook"
    }
   },
   "outputs": [],
   "source": []
  }
 ],
 "metadata": {
  "kernelspec": {
   "display_name": ".NET (F#)",
   "language": "F#",
   "name": ".net-fsharp"
  },
  "polyglot_notebook": {
   "kernelInfo": {
    "defaultKernelName": "fsharp",
    "items": [
     {
      "aliases": [
       "f#",
       "F#"
      ],
      "languageName": "F#",
      "name": "fsharp"
     },
     {
      "aliases": [
       "frontend"
      ],
      "name": "vscode"
     },
     {
      "aliases": [],
      "name": ".NET"
     },
     {
      "aliases": [
       "c#",
       "C#"
      ],
      "languageName": "C#",
      "name": "csharp"
     },
     {
      "aliases": [],
      "languageName": "HTML",
      "name": "html"
     },
     {
      "aliases": [],
      "languageName": "HTTP",
      "name": "http"
     },
     {
      "aliases": [],
      "languageName": "KQL",
      "name": "kql"
     },
     {
      "aliases": [],
      "languageName": "Mermaid",
      "name": "mermaid"
     },
     {
      "aliases": [
       "powershell"
      ],
      "languageName": "PowerShell",
      "name": "pwsh"
     },
     {
      "aliases": [],
      "languageName": "SQL",
      "name": "sql"
     },
     {
      "aliases": [],
      "name": "value"
     },
     {
      "aliases": [
       "js"
      ],
      "languageName": "JavaScript",
      "name": "javascript"
     },
     {
      "aliases": [],
      "name": "webview"
     }
    ]
   }
  }
 },
 "nbformat": 4,
 "nbformat_minor": 2
}
