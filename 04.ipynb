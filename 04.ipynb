{
 "cells": [
  {
   "attachments": {},
   "cell_type": "markdown",
   "metadata": {
    "dotnet_interactive": {
     "language": "fsharp"
    },
    "polyglot_notebook": {
     "kernelName": "fsharp"
    }
   },
   "source": [
    "## 問題\n",
    "\n",
    "https://twitter.com/e869120/status/1377752658149175299\n",
    "\n",
    "## 解説\n",
    "\n",
    "https://twitter.com/e869120/status/1378115289649348611"
   ]
  },
  {
   "cell_type": "code",
   "execution_count": 1,
   "metadata": {
    "dotnet_interactive": {
     "language": "fsharp"
    },
    "polyglot_notebook": {
     "kernelName": "fsharp"
    },
    "vscode": {
     "languageId": "polyglot-notebook"
    }
   },
   "outputs": [
    {
     "data": {
      "text/html": [
       "<div><div></div><div></div><div><strong>Installed Packages</strong><ul><li><span>FSharpPlus, 1.3.2</span></li></ul></div></div>"
      ]
     },
     "metadata": {},
     "output_type": "display_data"
    }
   ],
   "source": [
    "#r \"nuget: FSharpPlus\""
   ]
  },
  {
   "cell_type": "code",
   "execution_count": 2,
   "metadata": {
    "dotnet_interactive": {
     "language": "fsharp"
    },
    "polyglot_notebook": {
     "kernelName": "fsharp"
    },
    "vscode": {
     "languageId": "polyglot-notebook"
    }
   },
   "outputs": [],
   "source": [
    "open System\n",
    "open System.Numerics\n",
    "open System.Collections.Generic\n",
    "open FSharpPlus"
   ]
  },
  {
   "cell_type": "code",
   "execution_count": 39,
   "metadata": {
    "dotnet_interactive": {
     "language": "fsharp"
    },
    "polyglot_notebook": {
     "kernelName": "fsharp"
    },
    "vscode": {
     "languageId": "polyglot-notebook"
    }
   },
   "outputs": [],
   "source": [
    "let sumHorizontalMemo =\n",
    "  let inner (table: uint32[,]) i = table[i, *] |> Array.sum\n",
    "  Memoization.memoizeN inner\n",
    "let inline sumHorizontal (table: uint32[,]) i = sumHorizontalMemo table i"
   ]
  },
  {
   "cell_type": "code",
   "execution_count": 40,
   "metadata": {
    "dotnet_interactive": {
     "language": "fsharp"
    },
    "polyglot_notebook": {
     "kernelName": "fsharp"
    },
    "vscode": {
     "languageId": "polyglot-notebook"
    }
   },
   "outputs": [],
   "source": [
    "let sumVerticalMemo =\n",
    "  let inner (table: uint32[,]) j = table[*, j] |> Array.sum\n",
    "  Memoization.memoizeN inner\n",
    "let inline sumVertical (table: uint32[,]) j = sumVerticalMemo table j"
   ]
  },
  {
   "cell_type": "code",
   "execution_count": 41,
   "metadata": {
    "dotnet_interactive": {
     "language": "fsharp"
    },
    "polyglot_notebook": {
     "kernelName": "fsharp"
    },
    "vscode": {
     "languageId": "polyglot-notebook"
    }
   },
   "outputs": [],
   "source": [
    "let solve (table: uint32[,]) =\n",
    "  table |> Array2D.mapi (fun i j v -> sumHorizontal table i + sumVertical table j - v)\n"
   ]
  },
  {
   "cell_type": "code",
   "execution_count": 43,
   "metadata": {
    "dotnet_interactive": {
     "language": "fsharp"
    },
    "polyglot_notebook": {
     "kernelName": "fsharp"
    },
    "vscode": {
     "languageId": "polyglot-notebook"
    }
   },
   "outputs": [
    {
     "data": {
      "text/html": [
       "<table><thead><tr><th><i>index</i></th><th>value</th></tr></thead><tbody><tr><td>0</td><td><div class=\"dni-plaintext\"><pre>5</pre></div></td></tr><tr><td>1</td><td><div class=\"dni-plaintext\"><pre>5</pre></div></td></tr><tr><td>2</td><td><div class=\"dni-plaintext\"><pre>5</pre></div></td></tr><tr><td>3</td><td><div class=\"dni-plaintext\"><pre>5</pre></div></td></tr><tr><td>4</td><td><div class=\"dni-plaintext\"><pre>5</pre></div></td></tr><tr><td>5</td><td><div class=\"dni-plaintext\"><pre>5</pre></div></td></tr><tr><td>6</td><td><div class=\"dni-plaintext\"><pre>5</pre></div></td></tr><tr><td>7</td><td><div class=\"dni-plaintext\"><pre>5</pre></div></td></tr><tr><td>8</td><td><div class=\"dni-plaintext\"><pre>5</pre></div></td></tr></tbody></table><style>\r\n",
       ".dni-code-hint {\r\n",
       "    font-style: italic;\r\n",
       "    overflow: hidden;\r\n",
       "    white-space: nowrap;\r\n",
       "}\r\n",
       ".dni-treeview {\r\n",
       "    white-space: nowrap;\r\n",
       "}\r\n",
       ".dni-treeview td {\r\n",
       "    vertical-align: top;\r\n",
       "    text-align: start;\r\n",
       "}\r\n",
       "details.dni-treeview {\r\n",
       "    padding-left: 1em;\r\n",
       "}\r\n",
       "table td {\r\n",
       "    text-align: start;\r\n",
       "}\r\n",
       "table tr { \r\n",
       "    vertical-align: top; \r\n",
       "    margin: 0em 0px;\r\n",
       "}\r\n",
       "table tr td pre \r\n",
       "{ \r\n",
       "    vertical-align: top !important; \r\n",
       "    margin: 0em 0px !important;\r\n",
       "} \r\n",
       "table th {\r\n",
       "    text-align: start;\r\n",
       "}\r\n",
       "</style>"
      ]
     },
     "metadata": {},
     "output_type": "display_data"
    }
   ],
   "source": [
    "solve (array2D [[1u; 1u; 1u]; [1u; 1u; 1u]; [1u; 1u; 1u]])"
   ]
  },
  {
   "cell_type": "code",
   "execution_count": 44,
   "metadata": {
    "dotnet_interactive": {
     "language": "fsharp"
    },
    "polyglot_notebook": {
     "kernelName": "fsharp"
    },
    "vscode": {
     "languageId": "polyglot-notebook"
    }
   },
   "outputs": [
    {
     "data": {
      "text/html": [
       "<table><thead><tr><th><i>index</i></th><th>value</th></tr></thead><tbody><tr><td>0</td><td><div class=\"dni-plaintext\"><pre>28</pre></div></td></tr><tr><td>1</td><td><div class=\"dni-plaintext\"><pre>28</pre></div></td></tr><tr><td>2</td><td><div class=\"dni-plaintext\"><pre>25</pre></div></td></tr><tr><td>3</td><td><div class=\"dni-plaintext\"><pre>26</pre></div></td></tr><tr><td>4</td><td><div class=\"dni-plaintext\"><pre>39</pre></div></td></tr><tr><td>5</td><td><div class=\"dni-plaintext\"><pre>33</pre></div></td></tr><tr><td>6</td><td><div class=\"dni-plaintext\"><pre>40</pre></div></td></tr><tr><td>7</td><td><div class=\"dni-plaintext\"><pre>34</pre></div></td></tr><tr><td>8</td><td><div class=\"dni-plaintext\"><pre>38</pre></div></td></tr><tr><td>9</td><td><div class=\"dni-plaintext\"><pre>38</pre></div></td></tr><tr><td>10</td><td><div class=\"dni-plaintext\"><pre>36</pre></div></td></tr><tr><td>11</td><td><div class=\"dni-plaintext\"><pre>31</pre></div></td></tr><tr><td>12</td><td><div class=\"dni-plaintext\"><pre>41</pre></div></td></tr><tr><td>13</td><td><div class=\"dni-plaintext\"><pre>41</pre></div></td></tr><tr><td>14</td><td><div class=\"dni-plaintext\"><pre>39</pre></div></td></tr><tr><td>15</td><td><div class=\"dni-plaintext\"><pre>43</pre></div></td></tr></tbody></table><style>\r\n",
       ".dni-code-hint {\r\n",
       "    font-style: italic;\r\n",
       "    overflow: hidden;\r\n",
       "    white-space: nowrap;\r\n",
       "}\r\n",
       ".dni-treeview {\r\n",
       "    white-space: nowrap;\r\n",
       "}\r\n",
       ".dni-treeview td {\r\n",
       "    vertical-align: top;\r\n",
       "    text-align: start;\r\n",
       "}\r\n",
       "details.dni-treeview {\r\n",
       "    padding-left: 1em;\r\n",
       "}\r\n",
       "table td {\r\n",
       "    text-align: start;\r\n",
       "}\r\n",
       "table tr { \r\n",
       "    vertical-align: top; \r\n",
       "    margin: 0em 0px;\r\n",
       "}\r\n",
       "table tr td pre \r\n",
       "{ \r\n",
       "    vertical-align: top !important; \r\n",
       "    margin: 0em 0px !important;\r\n",
       "} \r\n",
       "table th {\r\n",
       "    text-align: start;\r\n",
       "}\r\n",
       "</style>"
      ]
     },
     "metadata": {},
     "output_type": "display_data"
    }
   ],
   "source": [
    "solve (array2D [[3u; 1u; 4u; 1u]; [5u; 9u; 2u; 6u]; [5u; 3u; 5u; 8u]; [9u; 7u; 9u; 3u]])"
   ]
  },
  {
   "cell_type": "code",
   "execution_count": 46,
   "metadata": {
    "dotnet_interactive": {
     "language": "fsharp"
    },
    "polyglot_notebook": {
     "kernelName": "fsharp"
    },
    "vscode": {
     "languageId": "polyglot-notebook"
    }
   },
   "outputs": [
    {
     "data": {
      "text/html": [
       "<table><thead><tr><th><i>index</i></th><th>value</th></tr></thead><tbody><tr><td>0</td><td><div class=\"dni-plaintext\"><pre>627</pre></div></td></tr><tr><td>1</td><td><div class=\"dni-plaintext\"><pre>629</pre></div></td></tr><tr><td>2</td><td><div class=\"dni-plaintext\"><pre>598</pre></div></td></tr><tr><td>3</td><td><div class=\"dni-plaintext\"><pre>648</pre></div></td></tr><tr><td>4</td><td><div class=\"dni-plaintext\"><pre>592</pre></div></td></tr><tr><td>5</td><td><div class=\"dni-plaintext\"><pre>660</pre></div></td></tr><tr><td>6</td><td><div class=\"dni-plaintext\"><pre>567</pre></div></td></tr><tr><td>7</td><td><div class=\"dni-plaintext\"><pre>653</pre></div></td></tr><tr><td>8</td><td><div class=\"dni-plaintext\"><pre>606</pre></div></td></tr><tr><td>9</td><td><div class=\"dni-plaintext\"><pre>662</pre></div></td></tr><tr><td>10</td><td><div class=\"dni-plaintext\"><pre>623</pre></div></td></tr><tr><td>11</td><td><div class=\"dni-plaintext\"><pre>633</pre></div></td></tr><tr><td>12</td><td><div class=\"dni-plaintext\"><pre>651</pre></div></td></tr><tr><td>13</td><td><div class=\"dni-plaintext\"><pre>618</pre></div></td></tr><tr><td>14</td><td><div class=\"dni-plaintext\"><pre>645</pre></div></td></tr><tr><td>15</td><td><div class=\"dni-plaintext\"><pre>650</pre></div></td></tr><tr><td>16</td><td><div class=\"dni-plaintext\"><pre>689</pre></div></td></tr><tr><td>17</td><td><div class=\"dni-plaintext\"><pre>685</pre></div></td></tr><tr><td>18</td><td><div class=\"dni-plaintext\"><pre>615</pre></div></td></tr><tr><td>19</td><td><div class=\"dni-plaintext\"><pre>676</pre></div></td></tr></tbody></table><style>\r\n",
       ".dni-code-hint {\r\n",
       "    font-style: italic;\r\n",
       "    overflow: hidden;\r\n",
       "    white-space: nowrap;\r\n",
       "}\r\n",
       ".dni-treeview {\r\n",
       "    white-space: nowrap;\r\n",
       "}\r\n",
       ".dni-treeview td {\r\n",
       "    vertical-align: top;\r\n",
       "    text-align: start;\r\n",
       "}\r\n",
       "details.dni-treeview {\r\n",
       "    padding-left: 1em;\r\n",
       "}\r\n",
       "table td {\r\n",
       "    text-align: start;\r\n",
       "}\r\n",
       "table tr { \r\n",
       "    vertical-align: top; \r\n",
       "    margin: 0em 0px;\r\n",
       "}\r\n",
       "table tr td pre \r\n",
       "{ \r\n",
       "    vertical-align: top !important; \r\n",
       "    margin: 0em 0px !important;\r\n",
       "} \r\n",
       "table th {\r\n",
       "    text-align: start;\r\n",
       "}\r\n",
       "</style>"
      ]
     },
     "metadata": {},
     "output_type": "display_data"
    }
   ],
   "source": [
    "solve (array2D [[31u; 41u; 59u; 26u; 53u; 58u; 97u; 93u; 23u; 84u]; [62u; 64u; 33u; 83u; 27u; 95u; 2u; 88u; 41u; 97u]])"
   ]
  },
  {
   "cell_type": "code",
   "execution_count": 47,
   "metadata": {
    "dotnet_interactive": {
     "language": "fsharp"
    },
    "polyglot_notebook": {
     "kernelName": "fsharp"
    },
    "vscode": {
     "languageId": "polyglot-notebook"
    }
   },
   "outputs": [
    {
     "data": {
      "text/html": [
       "<table><thead><tr><th><i>index</i></th><th>value</th></tr></thead><tbody><tr><td>0</td><td><div class=\"dni-plaintext\"><pre>1479</pre></div></td></tr><tr><td>1</td><td><div class=\"dni-plaintext\"><pre>1471</pre></div></td></tr><tr><td>2</td><td><div class=\"dni-plaintext\"><pre>1546</pre></div></td></tr><tr><td>3</td><td><div class=\"dni-plaintext\"><pre>1500</pre></div></td></tr><tr><td>4</td><td><div class=\"dni-plaintext\"><pre>1518</pre></div></td></tr><tr><td>5</td><td><div class=\"dni-plaintext\"><pre>1488</pre></div></td></tr><tr><td>6</td><td><div class=\"dni-plaintext\"><pre>1551</pre></div></td></tr><tr><td>7</td><td><div class=\"dni-plaintext\"><pre>1466</pre></div></td></tr><tr><td>8</td><td><div class=\"dni-plaintext\"><pre>1502</pre></div></td></tr><tr><td>9</td><td><div class=\"dni-plaintext\"><pre>1546</pre></div></td></tr><tr><td>10</td><td><div class=\"dni-plaintext\"><pre>1414</pre></div></td></tr><tr><td>11</td><td><div class=\"dni-plaintext\"><pre>1394</pre></div></td></tr><tr><td>12</td><td><div class=\"dni-plaintext\"><pre>1447</pre></div></td></tr><tr><td>13</td><td><div class=\"dni-plaintext\"><pre>1420</pre></div></td></tr><tr><td>14</td><td><div class=\"dni-plaintext\"><pre>1462</pre></div></td></tr><tr><td>15</td><td><div class=\"dni-plaintext\"><pre>1411</pre></div></td></tr><tr><td>16</td><td><div class=\"dni-plaintext\"><pre>1461</pre></div></td></tr><tr><td>17</td><td><div class=\"dni-plaintext\"><pre>1396</pre></div></td></tr><tr><td>18</td><td><div class=\"dni-plaintext\"><pre>1443</pre></div></td></tr><tr><td>19</td><td><div class=\"dni-plaintext\"><pre>1445</pre></div></td></tr><tr><td colspan=\"2\"><i>(80 more)</i></td></tr></tbody></table><style>\r\n",
       ".dni-code-hint {\r\n",
       "    font-style: italic;\r\n",
       "    overflow: hidden;\r\n",
       "    white-space: nowrap;\r\n",
       "}\r\n",
       ".dni-treeview {\r\n",
       "    white-space: nowrap;\r\n",
       "}\r\n",
       ".dni-treeview td {\r\n",
       "    vertical-align: top;\r\n",
       "    text-align: start;\r\n",
       "}\r\n",
       "details.dni-treeview {\r\n",
       "    padding-left: 1em;\r\n",
       "}\r\n",
       "table td {\r\n",
       "    text-align: start;\r\n",
       "}\r\n",
       "table tr { \r\n",
       "    vertical-align: top; \r\n",
       "    margin: 0em 0px;\r\n",
       "}\r\n",
       "table tr td pre \r\n",
       "{ \r\n",
       "    vertical-align: top !important; \r\n",
       "    margin: 0em 0px !important;\r\n",
       "} \r\n",
       "table th {\r\n",
       "    text-align: start;\r\n",
       "}\r\n",
       "</style>"
      ]
     },
     "metadata": {},
     "output_type": "display_data"
    }
   ],
   "source": [
    "array2D [\n",
    "  [83u; 86u; 77u; 65u; 93u; 85u; 86u; 92u; 99u; 71u]\n",
    "  [62u; 77u; 90u; 59u; 63u; 76u; 90u; 76u; 72u; 86u]\n",
    "  [61u; 68u; 67u; 79u; 82u; 80u; 62u; 73u; 67u; 85u]\n",
    "  [79u; 52u; 72u; 58u; 69u; 67u; 93u; 56u; 61u; 92u]\n",
    "  [79u; 73u; 71u; 69u; 84u; 87u; 98u; 74u; 65u; 70u]\n",
    "  [63u; 76u; 91u; 80u; 56u; 73u; 62u; 70u; 96u; 81u]\n",
    "  [55u; 75u; 84u; 77u; 86u; 55u; 96u; 79u; 63u; 57u]\n",
    "  [74u; 95u; 82u; 95u; 64u; 67u; 84u; 64u; 93u; 50u]\n",
    "  [87u; 58u; 76u; 78u; 88u; 84u; 53u; 51u; 54u; 99u]\n",
    "  [82u; 60u; 76u; 68u; 89u; 62u; 76u; 86u; 94u; 89u]\n",
    "] |> solve\n"
   ]
  },
  {
   "cell_type": "code",
   "execution_count": null,
   "metadata": {
    "dotnet_interactive": {
     "language": "fsharp"
    },
    "polyglot_notebook": {
     "kernelName": "fsharp"
    },
    "vscode": {
     "languageId": "polyglot-notebook"
    }
   },
   "outputs": [],
   "source": []
  }
 ],
 "metadata": {
  "kernelspec": {
   "display_name": ".NET (F#)",
   "language": "F#",
   "name": ".net-fsharp"
  },
  "polyglot_notebook": {
   "kernelInfo": {
    "defaultKernelName": "fsharp",
    "items": [
     {
      "aliases": [
       "f#",
       "F#"
      ],
      "languageName": "F#",
      "name": "fsharp"
     },
     {
      "aliases": [
       "frontend"
      ],
      "name": "vscode"
     },
     {
      "aliases": [],
      "name": ".NET"
     },
     {
      "aliases": [
       "c#",
       "C#"
      ],
      "languageName": "C#",
      "name": "csharp"
     },
     {
      "aliases": [],
      "languageName": "HTML",
      "name": "html"
     },
     {
      "aliases": [],
      "languageName": "HTTP",
      "name": "http"
     },
     {
      "aliases": [
       "js"
      ],
      "languageName": "JavaScript",
      "name": "javascript"
     },
     {
      "aliases": [],
      "languageName": "KQL",
      "name": "kql"
     },
     {
      "aliases": [],
      "languageName": "Mermaid",
      "name": "mermaid"
     },
     {
      "aliases": [
       "powershell"
      ],
      "languageName": "PowerShell",
      "name": "pwsh"
     },
     {
      "aliases": [],
      "languageName": "SQL",
      "name": "sql"
     },
     {
      "aliases": [],
      "name": "value"
     },
     {
      "aliases": [],
      "name": "webview"
     }
    ]
   }
  }
 },
 "nbformat": 4,
 "nbformat_minor": 2
}
