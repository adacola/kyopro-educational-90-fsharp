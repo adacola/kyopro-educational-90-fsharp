{
 "cells": [
  {
   "attachments": {},
   "cell_type": "markdown",
   "metadata": {
    "dotnet_interactive": {
     "language": "fsharp"
    },
    "polyglot_notebook": {
     "kernelName": "fsharp"
    }
   },
   "source": [
    "## 問題\n",
    "\n",
    "https://twitter.com/e869120/status/1381739128291614720\n",
    "\n",
    "## 解説\n",
    "\n",
    "https://twitter.com/e869120/status/1382101716066127872"
   ]
  },
  {
   "cell_type": "code",
   "execution_count": 1,
   "metadata": {
    "dotnet_interactive": {
     "language": "fsharp"
    },
    "polyglot_notebook": {
     "kernelName": "fsharp"
    },
    "vscode": {
     "languageId": "polyglot-notebook"
    }
   },
   "outputs": [
    {
     "data": {
      "text/html": [
       "<div><div></div><div></div><div><strong>Installed Packages</strong><ul><li><span>FSharpPlus, 1.3.2</span></li></ul></div></div>"
      ]
     },
     "metadata": {},
     "output_type": "display_data"
    }
   ],
   "source": [
    "#r \"nuget: FSharpPlus\""
   ]
  },
  {
   "cell_type": "code",
   "execution_count": 2,
   "metadata": {
    "dotnet_interactive": {
     "language": "fsharp"
    },
    "polyglot_notebook": {
     "kernelName": "fsharp"
    },
    "vscode": {
     "languageId": "polyglot-notebook"
    }
   },
   "outputs": [],
   "source": [
    "open System\n",
    "open System.Numerics\n",
    "open System.Collections.Generic\n",
    "open FSharpPlus"
   ]
  },
  {
   "cell_type": "code",
   "execution_count": 3,
   "metadata": {
    "dotnet_interactive": {
     "language": "fsharp"
    },
    "polyglot_notebook": {
     "kernelName": "fsharp"
    },
    "vscode": {
     "languageId": "polyglot-notebook"
    }
   },
   "outputs": [],
   "source": [
    "type [<Struct>] NodeId = NodeId of int\n",
    "with\n",
    "  static member op_Implicit i = NodeId i\n",
    "  static member id (NodeId i) = i\n",
    "\n",
    "type Edge = {\n",
    "  Nodes: NodeId * NodeId\n",
    "  Cost: int\n",
    "} with\n",
    "  static member tryGetOtherNode node edge =\n",
    "    let x, y = edge.Nodes\n",
    "    if node = x then Some y elif node = y then Some x else None\n",
    "\n",
    "let allNodeSet edges = edges |> Seq.collect (fun e -> let (x, y) = e.Nodes in [x; y]) |> Seq.distinct |> set"
   ]
  },
  {
   "cell_type": "code",
   "execution_count": 7,
   "metadata": {
    "dotnet_interactive": {
     "language": "fsharp"
    },
    "polyglot_notebook": {
     "kernelName": "fsharp"
    },
    "vscode": {
     "languageId": "polyglot-notebook"
    }
   },
   "outputs": [],
   "source": [
    "let dijkstra edges nodeSet startNode =\n",
    "  let rec loop results edges restNodeSet =\n",
    "    if restNodeSet |> Set.isEmpty then results else\n",
    "    let (n, _) as result =\n",
    "      results |> Seq.collect (fun (n, c) ->\n",
    "        edges |> Seq.choose (fun e -> e |> Edge.tryGetOtherNode n |> Option.map (fun n' -> n', e.Cost + c)))\n",
    "      |> Seq.minBy snd\n",
    "    let edges = edges |> filter (Edge.tryGetOtherNode n >> Option.forall (fun n' -> restNodeSet |> Set.contains n'))\n",
    "    restNodeSet |> Set.remove n |> loop (result::results) edges\n",
    "  nodeSet |> Set.remove startNode |> loop [startNode, 0] edges"
   ]
  },
  {
   "cell_type": "code",
   "execution_count": 13,
   "metadata": {
    "dotnet_interactive": {
     "language": "fsharp"
    },
    "polyglot_notebook": {
     "kernelName": "fsharp"
    },
    "vscode": {
     "languageId": "polyglot-notebook"
    }
   },
   "outputs": [],
   "source": [
    "let solve ABCs =\n",
    "  let edges = ABCs |> Seq.map (fun (a, b, c) -> { Nodes = NodeId a, NodeId b; Cost = c }) |> Seq.toList\n",
    "  let nodeSet = edges |> allNodeSet\n",
    "  let N = nodeSet |> Set.count\n",
    "  nodeSet |> Seq.map (fun n ->\n",
    "    // 経由地nに寄った上での最短距離は、始点からnの最短距離 + 終点からnの最短距離\n",
    "    let _, fromStartCost = dijkstra edges nodeSet 1 |> Seq.find (fst >> (=) n)\n",
    "    let _, fromEndCost = dijkstra edges nodeSet N |> Seq.find (fst >> (=) n)\n",
    "    fromStartCost + fromEndCost)\n",
    "  |> Seq.toList"
   ]
  },
  {
   "cell_type": "code",
   "execution_count": 14,
   "metadata": {
    "dotnet_interactive": {
     "language": "fsharp"
    },
    "polyglot_notebook": {
     "kernelName": "fsharp"
    },
    "vscode": {
     "languageId": "polyglot-notebook"
    }
   },
   "outputs": [
    {
     "data": {
      "text/html": [
       "<table><thead><tr><th><i>index</i></th><th>value</th></tr></thead><tbody><tr><td>0</td><td><div class=\"dni-plaintext\"><pre>8</pre></div></td></tr><tr><td>1</td><td><div class=\"dni-plaintext\"><pre>8</pre></div></td></tr><tr><td>2</td><td><div class=\"dni-plaintext\"><pre>9</pre></div></td></tr><tr><td>3</td><td><div class=\"dni-plaintext\"><pre>9</pre></div></td></tr><tr><td>4</td><td><div class=\"dni-plaintext\"><pre>8</pre></div></td></tr><tr><td>5</td><td><div class=\"dni-plaintext\"><pre>8</pre></div></td></tr><tr><td>6</td><td><div class=\"dni-plaintext\"><pre>8</pre></div></td></tr></tbody></table><style>\r\n",
       ".dni-code-hint {\r\n",
       "    font-style: italic;\r\n",
       "    overflow: hidden;\r\n",
       "    white-space: nowrap;\r\n",
       "}\r\n",
       ".dni-treeview {\r\n",
       "    white-space: nowrap;\r\n",
       "}\r\n",
       ".dni-treeview td {\r\n",
       "    vertical-align: top;\r\n",
       "    text-align: start;\r\n",
       "}\r\n",
       "details.dni-treeview {\r\n",
       "    padding-left: 1em;\r\n",
       "}\r\n",
       "table td {\r\n",
       "    text-align: start;\r\n",
       "}\r\n",
       "table tr { \r\n",
       "    vertical-align: top; \r\n",
       "    margin: 0em 0px;\r\n",
       "}\r\n",
       "table tr td pre \r\n",
       "{ \r\n",
       "    vertical-align: top !important; \r\n",
       "    margin: 0em 0px !important;\r\n",
       "} \r\n",
       "table th {\r\n",
       "    text-align: start;\r\n",
       "}\r\n",
       "</style>"
      ]
     },
     "metadata": {},
     "output_type": "display_data"
    }
   ],
   "source": [
    "solve [\n",
    "  1, 2, 2\n",
    "  1, 3, 3\n",
    "  2, 5, 2\n",
    "  3, 4, 1\n",
    "  3, 5, 4\n",
    "  4, 7, 5\n",
    "  5, 6, 1\n",
    "  5, 7, 6\n",
    "  6, 7, 3\n",
    "]"
   ]
  },
  {
   "cell_type": "code",
   "execution_count": 15,
   "metadata": {
    "dotnet_interactive": {
     "language": "fsharp"
    },
    "polyglot_notebook": {
     "kernelName": "fsharp"
    },
    "vscode": {
     "languageId": "polyglot-notebook"
    }
   },
   "outputs": [
    {
     "data": {
      "text/html": [
       "<table><thead><tr><th><i>index</i></th><th>value</th></tr></thead><tbody><tr><td>0</td><td><div class=\"dni-plaintext\"><pre>111</pre></div></td></tr><tr><td>1</td><td><div class=\"dni-plaintext\"><pre>111</pre></div></td></tr><tr><td>2</td><td><div class=\"dni-plaintext\"><pre>111</pre></div></td></tr><tr><td>3</td><td><div class=\"dni-plaintext\"><pre>111</pre></div></td></tr></tbody></table><style>\r\n",
       ".dni-code-hint {\r\n",
       "    font-style: italic;\r\n",
       "    overflow: hidden;\r\n",
       "    white-space: nowrap;\r\n",
       "}\r\n",
       ".dni-treeview {\r\n",
       "    white-space: nowrap;\r\n",
       "}\r\n",
       ".dni-treeview td {\r\n",
       "    vertical-align: top;\r\n",
       "    text-align: start;\r\n",
       "}\r\n",
       "details.dni-treeview {\r\n",
       "    padding-left: 1em;\r\n",
       "}\r\n",
       "table td {\r\n",
       "    text-align: start;\r\n",
       "}\r\n",
       "table tr { \r\n",
       "    vertical-align: top; \r\n",
       "    margin: 0em 0px;\r\n",
       "}\r\n",
       "table tr td pre \r\n",
       "{ \r\n",
       "    vertical-align: top !important; \r\n",
       "    margin: 0em 0px !important;\r\n",
       "} \r\n",
       "table th {\r\n",
       "    text-align: start;\r\n",
       "}\r\n",
       "</style>"
      ]
     },
     "metadata": {},
     "output_type": "display_data"
    }
   ],
   "source": [
    "solve [\n",
    "  1, 2, 1\n",
    "  2, 3, 10\n",
    "  3, 4, 100\n",
    "]"
   ]
  },
  {
   "cell_type": "code",
   "execution_count": 16,
   "metadata": {
    "dotnet_interactive": {
     "language": "fsharp"
    },
    "polyglot_notebook": {
     "kernelName": "fsharp"
    },
    "vscode": {
     "languageId": "polyglot-notebook"
    }
   },
   "outputs": [
    {
     "data": {
      "text/html": [
       "<table><thead><tr><th><i>index</i></th><th>value</th></tr></thead><tbody><tr><td>0</td><td><div class=\"dni-plaintext\"><pre>265</pre></div></td></tr><tr><td>1</td><td><div class=\"dni-plaintext\"><pre>893</pre></div></td></tr><tr><td>2</td><td><div class=\"dni-plaintext\"><pre>583</pre></div></td></tr><tr><td>3</td><td><div class=\"dni-plaintext\"><pre>265</pre></div></td></tr></tbody></table><style>\r\n",
       ".dni-code-hint {\r\n",
       "    font-style: italic;\r\n",
       "    overflow: hidden;\r\n",
       "    white-space: nowrap;\r\n",
       "}\r\n",
       ".dni-treeview {\r\n",
       "    white-space: nowrap;\r\n",
       "}\r\n",
       ".dni-treeview td {\r\n",
       "    vertical-align: top;\r\n",
       "    text-align: start;\r\n",
       "}\r\n",
       "details.dni-treeview {\r\n",
       "    padding-left: 1em;\r\n",
       "}\r\n",
       "table td {\r\n",
       "    text-align: start;\r\n",
       "}\r\n",
       "table tr { \r\n",
       "    vertical-align: top; \r\n",
       "    margin: 0em 0px;\r\n",
       "}\r\n",
       "table tr td pre \r\n",
       "{ \r\n",
       "    vertical-align: top !important; \r\n",
       "    margin: 0em 0px !important;\r\n",
       "} \r\n",
       "table th {\r\n",
       "    text-align: start;\r\n",
       "}\r\n",
       "</style>"
      ]
     },
     "metadata": {},
     "output_type": "display_data"
    }
   ],
   "source": [
    "solve [\n",
    "  1, 2, 314\n",
    "  1, 3, 159\n",
    "  1, 4, 265\n",
    "]"
   ]
  },
  {
   "cell_type": "code",
   "execution_count": 17,
   "metadata": {
    "dotnet_interactive": {
     "language": "fsharp"
    },
    "polyglot_notebook": {
     "kernelName": "fsharp"
    },
    "vscode": {
     "languageId": "polyglot-notebook"
    }
   },
   "outputs": [
    {
     "data": {
      "text/html": [
       "<table><thead><tr><th><i>index</i></th><th>value</th></tr></thead><tbody><tr><td>0</td><td><div class=\"dni-plaintext\"><pre>1214</pre></div></td></tr><tr><td>1</td><td><div class=\"dni-plaintext\"><pre>1521</pre></div></td></tr><tr><td>2</td><td><div class=\"dni-plaintext\"><pre>1526</pre></div></td></tr><tr><td>3</td><td><div class=\"dni-plaintext\"><pre>1218</pre></div></td></tr><tr><td>4</td><td><div class=\"dni-plaintext\"><pre>1218</pre></div></td></tr><tr><td>5</td><td><div class=\"dni-plaintext\"><pre>1937</pre></div></td></tr><tr><td>6</td><td><div class=\"dni-plaintext\"><pre>1704</pre></div></td></tr><tr><td>7</td><td><div class=\"dni-plaintext\"><pre>1693</pre></div></td></tr><tr><td>8</td><td><div class=\"dni-plaintext\"><pre>1250</pre></div></td></tr><tr><td>9</td><td><div class=\"dni-plaintext\"><pre>2013</pre></div></td></tr><tr><td>10</td><td><div class=\"dni-plaintext\"><pre>2196</pre></div></td></tr><tr><td>11</td><td><div class=\"dni-plaintext\"><pre>2492</pre></div></td></tr><tr><td>12</td><td><div class=\"dni-plaintext\"><pre>1734</pre></div></td></tr><tr><td>13</td><td><div class=\"dni-plaintext\"><pre>2440</pre></div></td></tr><tr><td>14</td><td><div class=\"dni-plaintext\"><pre>2036</pre></div></td></tr><tr><td>15</td><td><div class=\"dni-plaintext\"><pre>1218</pre></div></td></tr><tr><td>16</td><td><div class=\"dni-plaintext\"><pre>1214</pre></div></td></tr><tr><td>17</td><td><div class=\"dni-plaintext\"><pre>1214</pre></div></td></tr><tr><td>18</td><td><div class=\"dni-plaintext\"><pre>1214</pre></div></td></tr><tr><td>19</td><td><div class=\"dni-plaintext\"><pre>1214</pre></div></td></tr><tr><td colspan=\"2\"><i>... (more)</i></td></tr></tbody></table><style>\r\n",
       ".dni-code-hint {\r\n",
       "    font-style: italic;\r\n",
       "    overflow: hidden;\r\n",
       "    white-space: nowrap;\r\n",
       "}\r\n",
       ".dni-treeview {\r\n",
       "    white-space: nowrap;\r\n",
       "}\r\n",
       ".dni-treeview td {\r\n",
       "    vertical-align: top;\r\n",
       "    text-align: start;\r\n",
       "}\r\n",
       "details.dni-treeview {\r\n",
       "    padding-left: 1em;\r\n",
       "}\r\n",
       "table td {\r\n",
       "    text-align: start;\r\n",
       "}\r\n",
       "table tr { \r\n",
       "    vertical-align: top; \r\n",
       "    margin: 0em 0px;\r\n",
       "}\r\n",
       "table tr td pre \r\n",
       "{ \r\n",
       "    vertical-align: top !important; \r\n",
       "    margin: 0em 0px !important;\r\n",
       "} \r\n",
       "table th {\r\n",
       "    text-align: start;\r\n",
       "}\r\n",
       "</style>"
      ]
     },
     "metadata": {},
     "output_type": "display_data"
    }
   ],
   "source": [
    "solve [\n",
    "  1, 2, 479\n",
    "  2, 3, 665\n",
    "  3, 4, 154\n",
    "  4, 5, 269\n",
    "  5, 6, 501\n",
    "  6, 7, 998\n",
    "  7, 8, 992\n",
    "  8, 9, 904\n",
    "  9, 10, 763\n",
    "  10, 11, 254\n",
    "  11, 12, 591\n",
    "  12, 13, 869\n",
    "  13, 14, 843\n",
    "  14, 15, 683\n",
    "  15, 16, 708\n",
    "  16, 17, 410\n",
    "  17, 18, 88\n",
    "  18, 19, 352\n",
    "  19, 20, 566\n",
    "  4, 8, 308\n",
    "  3, 19, 573\n",
    "  8, 14, 566\n",
    "  10, 14, 766\n",
    "  5, 16, 76\n",
    "  3, 11, 887\n",
    "  2, 6, 433\n",
    "  5, 8, 570\n",
    "  6, 15, 151\n",
    "  4, 11, 737\n",
    "  9, 17, 18\n",
    "  4, 12, 900\n",
    "  1, 17, 208\n",
    "  15, 20, 973\n",
    "  11, 15, 317\n",
    "  13, 17, 260\n",
    "  1, 7, 245\n",
    "  6, 10, 38\n",
    "  10, 12, 860\n",
    "  2, 16, 442\n",
    "  4, 20, 255\n",
    "]"
   ]
  },
  {
   "cell_type": "code",
   "execution_count": null,
   "metadata": {
    "dotnet_interactive": {
     "language": "fsharp"
    },
    "polyglot_notebook": {
     "kernelName": "fsharp"
    },
    "vscode": {
     "languageId": "polyglot-notebook"
    }
   },
   "outputs": [],
   "source": []
  }
 ],
 "metadata": {
  "kernelspec": {
   "display_name": ".NET (F#)",
   "language": "F#",
   "name": ".net-fsharp"
  },
  "polyglot_notebook": {
   "kernelInfo": {
    "defaultKernelName": "fsharp",
    "items": [
     {
      "aliases": [
       "f#",
       "F#"
      ],
      "languageName": "F#",
      "name": "fsharp"
     },
     {
      "aliases": [
       "frontend"
      ],
      "name": "vscode"
     },
     {
      "aliases": [],
      "name": ".NET"
     },
     {
      "aliases": [
       "c#",
       "C#"
      ],
      "languageName": "C#",
      "name": "csharp"
     },
     {
      "aliases": [],
      "languageName": "HTML",
      "name": "html"
     },
     {
      "aliases": [],
      "languageName": "HTTP",
      "name": "http"
     },
     {
      "aliases": [
       "js"
      ],
      "languageName": "JavaScript",
      "name": "javascript"
     },
     {
      "aliases": [],
      "languageName": "KQL",
      "name": "kql"
     },
     {
      "aliases": [],
      "languageName": "Mermaid",
      "name": "mermaid"
     },
     {
      "aliases": [
       "powershell"
      ],
      "languageName": "PowerShell",
      "name": "pwsh"
     },
     {
      "aliases": [],
      "languageName": "SQL",
      "name": "sql"
     },
     {
      "aliases": [],
      "name": "value"
     },
     {
      "aliases": [],
      "name": "webview"
     }
    ]
   }
  }
 },
 "nbformat": 4,
 "nbformat_minor": 2
}
